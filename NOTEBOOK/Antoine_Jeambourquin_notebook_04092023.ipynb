{
 "cells": [
  {
   "cell_type": "markdown",
   "metadata": {},
   "source": [
    "# **PROJET 6** : Analysez les ventes d'une librairie avec Python\n",
    "---"
   ]
  },
  {
   "cell_type": "markdown",
   "metadata": {},
   "source": [
    "**Mise en situation** \n",
    "\n",
    "L’entreprise Lapage était originellement une librairie physique avec plusieurs points de vente. Mais devant le succès de certains de ses produits et l’engouement de ses clients, elle a décidé depuis 2 ans d’ouvrir un site de vente en ligne. La structure a besoin d’aide pour mieux comprendre ses données, c’est pourquoi elle vous a recruté. Vous intervenez en tant que Data Analyst afin de faire le point sur l’activité."
   ]
  },
  {
   "cell_type": "markdown",
   "metadata": {},
   "source": [
    "**Consignes**\n",
    "- Analyses des indicateurs de ventes : les chiffres clés, KPI, graphiques générés, etc. \n",
    "- Analyse des corrélations"
   ]
  },
  {
   "cell_type": "markdown",
   "metadata": {},
   "source": [
    "**Compétences évaluées**\n",
    "- Réaliser un test statistique\n",
    "- Réaliser une analyse bivariée pour interpréter des données\n",
    "- Analyser des séries temporelles"
   ]
  },
  {
   "cell_type": "markdown",
   "metadata": {},
   "source": [
    "## Sommaire\n",
    "---\n",
    "\n",
    "- [**Section 1: Import**](#section1)\n",
    "- [**Section 2: Jointures**](#section2)\n",
    "- [**Section 3: Manipulation DFT**](#section3)\n",
    "- [**Section 4: Etude du CA**](#section4)\n",
    "- [**Section 5: Correlations**](#section5)\n",
    "- [**Section 6: Conclusion**](#section6)\n",
    "---\n"
   ]
  },
  {
   "cell_type": "markdown",
   "metadata": {},
   "source": [
    "<a id=\"section1\"></a>\n",
    "# **IMPORT**\n",
    "---"
   ]
  },
  {
   "cell_type": "code",
   "execution_count": null,
   "metadata": {},
   "outputs": [],
   "source": [
    "# import des modules et des packages\n",
    "import pandas as pd\n",
    "import matplotlib.pyplot as plt\n",
    "import seaborn as sns\n",
    "import plotly.express as px\n",
    "from datetime import datetime\n",
    "from statsmodels.tsa.seasonal import seasonal_decompose\n",
    "import numpy as np\n",
    "import statsmodels.api as sm\n",
    "from scipy.stats import pearsonr\n",
    "from scipy.stats import chi2_contingency\n",
    "from scipy.stats import f_oneway\n",
    "from scipy.stats import linregress\n",
    "#import fonctions as fc"
   ]
  },
  {
   "cell_type": "code",
   "execution_count": null,
   "metadata": {},
   "outputs": [],
   "source": [
    "#Import fichiers csv\n",
    "customers = pd.read_csv('customersv2.csv', delimiter=';')\n",
    "transactions = pd.read_csv('Transactionsv2.csv',delimiter=';')\n",
    "products = pd.read_csv('productsv2.csv',delimiter=';')"
   ]
  },
  {
   "cell_type": "markdown",
   "metadata": {},
   "source": [
    "## **Fonctions**"
   ]
  },
  {
   "cell_type": "code",
   "execution_count": null,
   "metadata": {},
   "outputs": [],
   "source": [
    "def analyse_statistique(df):\n",
    "    numeric_cols = df.select_dtypes(include=[np.number]).columns\n",
    "    stats = df.describe(include='all')\n",
    "    \n",
    "    # Ajouter la skewness et la kurtosis\n",
    "    stats.loc['skewness'] = df[numeric_cols].skew()\n",
    "    stats.loc['kurtosis'] = df[numeric_cols].kurtosis()\n",
    "\n",
    "    return stats"
   ]
  },
  {
   "cell_type": "code",
   "execution_count": null,
   "metadata": {},
   "outputs": [],
   "source": [
    "def etude_fichier(df):\n",
    "    '''Cette fonction étudie un dataframe en regardant sa forme, les types, le nombre de valeurs uniques et manquantes'''\n",
    "    print(\"Nombre de colonnes :\", df.shape[1])\n",
    "    print()\n",
    "    print(\"Le type est : \\n\", df.dtypes)\n",
    "    print()\n",
    "    print('Nombre de valeurs uniques :')\n",
    "    print(df.nunique())\n",
    "    print()\n",
    "    print('Le nombre de valeurs manquantes :\\n', df.isnull().sum())"
   ]
  },
  {
   "cell_type": "code",
   "execution_count": null,
   "metadata": {},
   "outputs": [],
   "source": [
    "def identifier_differences_entre_cles(df1, df2, keys_df1=None, keys_df2=None):\n",
    "    \"\"\"\n",
    "    Identifie les différences entre les clés de deux DataFrames en utilisant les colonnes spécifiées pour chaque DataFrame.\n",
    "\n",
    "    Args:\n",
    "        df1 (pandas.DataFrame): Le premier DataFrame.\n",
    "        df2 (pandas.DataFrame): Le deuxième DataFrame.\n",
    "        keys_df1 (list or str, optional): Les colonnes à utiliser comme clés pour le premier DataFrame. \n",
    "                                          Si None, utilise la première colonne.\n",
    "                                          Par défaut, None.\n",
    "        keys_df2 (list or str, optional): Les colonnes à utiliser comme clés pour le deuxième DataFrame. \n",
    "                                          Si None, utilise la première colonne.\n",
    "                                          Par défaut, None.\n",
    "    \"\"\"\n",
    "    if keys_df1 is None:\n",
    "        keys_df1 = [df1.columns[0]]\n",
    "    if keys_df2 is None:\n",
    "        keys_df2 = [df2.columns[0]]\n",
    "\n",
    "    unique_keys_df1 = set(df1[keys_df1].drop_duplicates().apply(tuple, axis=1))\n",
    "    unique_keys_df2 = set(df2[keys_df2].drop_duplicates().apply(tuple, axis=1))\n",
    "\n",
    "    keys_only_in_df1 = unique_keys_df1 - unique_keys_df2\n",
    "    keys_only_in_df2 = unique_keys_df2 - unique_keys_df1\n",
    "\n",
    "    print(\"Nombre de clés absentes dans DF1:\", len(keys_only_in_df1))\n",
    "    print(\"Nombre de clés absentes dans DF2:\", len(keys_only_in_df2))"
   ]
  },
  {
   "cell_type": "code",
   "execution_count": null,
   "metadata": {},
   "outputs": [],
   "source": [
    "def etudier_jointures(df1, df2):\n",
    "    \"\"\" Effectue une étude des jointures possibles entre deux DataFrames en utilisant les colonnes des ID comme clés de jointure.\n",
    "\n",
    "    Args:\n",
    "        df1 (pandas.DataFrame): Le premier DataFrame.\n",
    "        df2 (pandas.DataFrame): Le deuxième DataFrame.\n",
    "    \"\"\"\n",
    "    id_columns_df1 = [col for col in df1.columns if 'id' in col.lower()]\n",
    "    id_columns_df2 = [col for col in df2.columns if 'id' in col.lower()]\n",
    "\n",
    "    results = {}\n",
    "\n",
    "    for on_column_df1 in id_columns_df1:\n",
    "        for on_column_df2 in id_columns_df2:\n",
    "            # Jointure interne (inner join)\n",
    "            inner_unique_keys = len(pd.merge(df1, df2, how='inner', left_on=on_column_df1, right_on=on_column_df2).drop_duplicates(subset=on_column_df1))\n",
    "\n",
    "            # Jointure à gauche (left join)\n",
    "            left_unique_keys = len(pd.merge(df1, df2, how='left', left_on=on_column_df1, right_on=on_column_df2).drop_duplicates(subset=on_column_df1))\n",
    "\n",
    "            # Jointure à droite (right join)\n",
    "            right_unique_keys = len(pd.merge(df1, df2, how='right', left_on=on_column_df1, right_on=on_column_df2).drop_duplicates(subset=on_column_df1))\n",
    "\n",
    "            # Jointure externe complète (full outer join)\n",
    "            outer_unique_keys = len(pd.merge(df1, df2, how='outer', left_on=on_column_df1, right_on=on_column_df2).drop_duplicates(subset=on_column_df1))\n",
    "\n",
    "            results[f\"{on_column_df1} - {on_column_df2}\"] = {\n",
    "                'inner': inner_unique_keys,\n",
    "                'left': left_unique_keys,\n",
    "                'right': right_unique_keys,\n",
    "                'outer': outer_unique_keys\n",
    "            }\n",
    "\n",
    "    for key, values in results.items():\n",
    "        print(f\"Colonnes de jointure : {key}\")\n",
    "        print(\"Nombre de clés uniques après jointure interne:\", values['inner'])\n",
    "        print(\"Nombre de clés uniques après jointure à gauche:\", values['left'])\n",
    "        print(\"Nombre de clés uniques après jointure à droite:\", values['right'])\n",
    "        print(\"Nombre de clés uniques après jointure externe:\", values['outer'])\n",
    "        print()"
   ]
  },
  {
   "cell_type": "code",
   "execution_count": null,
   "metadata": {},
   "outputs": [],
   "source": [
    "def detecter_outliers(df, column, seuil=2.0):\n",
    "    \"\"\"\n",
    "    Détecte les outliers dans une colonne d'un DataFrame en utilisant le Z-score.\n",
    "\n",
    "    Args:\n",
    "        df (pandas.DataFrame): Le DataFrame contenant les données numériques.\n",
    "        column (str): Le nom de la colonne à étudier.\n",
    "        seuil (float): Le seuil pour définir les outliers. Par défaut, 2.0.\n",
    "    \"\"\"\n",
    "    if column not in df.columns:\n",
    "        raise ValueError(f\"La colonne '{column}' n'existe pas dans le DataFrame.\")\n",
    "    \n",
    "    series = df[column]\n",
    "    z_scores = np.abs((series - series.mean()) / series.std())\n",
    "    outliers_mask = z_scores > seuil\n",
    "    outliers_percentage = (outliers_mask.mean() * 100).round(2)\n",
    "    \n",
    "    print(f\"Le pourcentage de valeurs considérées comme des outliers en utilisant le Z-score au seuil 2 dans la colonne '{column}' est {outliers_percentage}%\")"
   ]
  },
  {
   "cell_type": "code",
   "execution_count": null,
   "metadata": {},
   "outputs": [],
   "source": [
    "def plot_skewness_kurtosis(data, column):\n",
    "    \"\"\"\n",
    "    Crée des graphiques pour visualiser la skewness et la kurtosis d'une distribution.\n",
    "\n",
    "    Args:\n",
    "        data (pandas.DataFrame): Le DataFrame contenant les données à analyser.\n",
    "        column (str): Le nom de la colonne à analyser.\n",
    "\n",
    "    Returns:\n",
    "        None\n",
    "    \"\"\"\n",
    "    skewness = data[column].skew()\n",
    "    kurtosis = data[column].kurtosis()\n",
    "\n",
    "    plt.figure(figsize=(12, 6))\n",
    "\n",
    "    # Histogramme de skewness\n",
    "    plt.subplot(1, 2, 1)\n",
    "    sns.histplot(data[column], kde=True)\n",
    "    plt.axvline(x=data[column].mean(), color='r', linestyle='dashed', linewidth=2)\n",
    "    plt.title(f'Skewness: {skewness:.2f}')\n",
    "\n",
    "    # Histogramme de kurtosis\n",
    "    plt.subplot(1, 2, 2)\n",
    "    sns.histplot(data[column], kde=True)\n",
    "    plt.axvline(x=data[column].mean(), color='r', linestyle='dashed', linewidth=2)\n",
    "    plt.axvline(x=data[column].mean() + data[column].std(), color='g', linestyle='dashed', linewidth=2)\n",
    "    plt.axvline(x=data[column].mean() - data[column].std(), color='g', linestyle='dashed', linewidth=2)\n",
    "    plt.axvline(x=data[column].mean() + 2 * data[column].std(), color='b', linestyle='dashed', linewidth=2)\n",
    "    plt.axvline(x=data[column].mean() - 2 * data[column].std(), color='b', linestyle='dashed', linewidth=2)\n",
    "    plt.title(f'Kurtosis: {kurtosis:.2f}')\n",
    "\n",
    "    plt.tight_layout()\n",
    "\n",
    "    # Analyse de la répartition (skewness)\n",
    "    if skewness > 0:\n",
    "        skewness_analysis = \"La distribution est inclinée positivement vers la droite (queue à droite),\\n ce qui signifie qu'elle a une longue queue à droite et que \\n les valeurs sont plus dispersées à droite de la moyenne.\"\n",
    "    elif skewness < 0:\n",
    "        skewness_analysis = \"La distribution est inclinée positivement vers la gauche (queue à gauche),\\n ce qui signifie qu'elle a une longue queue à gauche et \\n que les valeurs sont plus dispersées à gauche de la moyenne.\"\n",
    "    else:\n",
    "        skewness_analysis = \"La distribution est parfaitement symétrique, \\n ce qui signifie que les valeurs sont également réparties des deux côtés de la moyenne.\"\n",
    "\n",
    "    # Analyse de l'aplatissement (kurtosis)\n",
    "    if kurtosis > 0:\n",
    "        kurtosis_analysis = \"La distribution est leptokurtique, \\n ce qui signifie qu'elle a des pics plus fins et des queues plus épaisses que la distribution normale.\\n Les valeurs sont plus concentrées autour de la moyenne, avec des queues plus épaisses indiquant des valeurs extrêmes.\"\n",
    "    elif kurtosis < 0:\n",
    "        kurtosis_analysis = \"La distribution est platykurtique, \\n ce qui signifie qu'elle a des pics plus larges et des queues plus minces que la distribution normale.\\n Les valeurs sont moins concentrées autour de la moyenne, avec moins de valeurs extrêmes.\"\n",
    "    else:\n",
    "     kurtosis_analysis = \"La distribution est mésokurtique, \\n ce qui signifie qu'elle a un aplatissement similaire à une distribution normale. \\nLes pics et les queues sont similaires à une distribution normale.\"\n",
    "\n",
    "\n",
    "    print(\"Analyse de la répartition (skewness):\", skewness_analysis)\n",
    "    print(\"Analyse de l'aplatissement (kurtosis):\", kurtosis_analysis)\n",
    "\n",
    "    plt.show()"
   ]
  },
  {
   "cell_type": "markdown",
   "metadata": {},
   "source": [
    "## **Etude fichier csv**"
   ]
  },
  {
   "cell_type": "markdown",
   "metadata": {},
   "source": [
    "## customers"
   ]
  },
  {
   "cell_type": "code",
   "execution_count": null,
   "metadata": {},
   "outputs": [],
   "source": [
    "customers.head()"
   ]
  },
  {
   "cell_type": "code",
   "execution_count": null,
   "metadata": {},
   "outputs": [],
   "source": [
    "etude_fichier(customers)"
   ]
  },
  {
   "cell_type": "code",
   "execution_count": null,
   "metadata": {},
   "outputs": [],
   "source": [
    "analyse_statistique(customers)"
   ]
  },
  {
   "cell_type": "code",
   "execution_count": null,
   "metadata": {},
   "outputs": [],
   "source": [
    "# ajout d'un entête pour la colonne id\n",
    "customers.rename(columns={'52' : 'client_id'}, inplace=True)"
   ]
  },
  {
   "cell_type": "markdown",
   "metadata": {},
   "source": [
    "## transactions"
   ]
  },
  {
   "cell_type": "code",
   "execution_count": null,
   "metadata": {},
   "outputs": [],
   "source": [
    "transactions.head()"
   ]
  },
  {
   "cell_type": "code",
   "execution_count": null,
   "metadata": {},
   "outputs": [],
   "source": [
    "etude_fichier(transactions)"
   ]
  },
  {
   "cell_type": "code",
   "execution_count": null,
   "metadata": {},
   "outputs": [],
   "source": [
    "analyse_statistique(transactions)"
   ]
  },
  {
   "cell_type": "markdown",
   "metadata": {},
   "source": [
    "## products"
   ]
  },
  {
   "cell_type": "code",
   "execution_count": null,
   "metadata": {},
   "outputs": [],
   "source": [
    "products.head()"
   ]
  },
  {
   "cell_type": "code",
   "execution_count": null,
   "metadata": {},
   "outputs": [],
   "source": [
    "etude_fichier(products)"
   ]
  },
  {
   "cell_type": "code",
   "execution_count": null,
   "metadata": {},
   "outputs": [],
   "source": [
    "products['categ'] = products['categ'].astype(str)"
   ]
  },
  {
   "cell_type": "code",
   "execution_count": null,
   "metadata": {},
   "outputs": [],
   "source": [
    "analyse_statistique(products)"
   ]
  },
  {
   "cell_type": "code",
   "execution_count": null,
   "metadata": {},
   "outputs": [],
   "source": [
    "plot_skewness_kurtosis(products, column='price')"
   ]
  },
  {
   "cell_type": "markdown",
   "metadata": {},
   "source": [
    "**Skewness (Asymétrie) :**\n",
    "La skewness est une mesure de l'asymétrie de la distribution des données par rapport à la moyenne (barre rouge). Elle indique la tendance d'une distribution à s'étendre plus d'un côté que de l'autre. Plus précisément, la skewness mesure la proportion de données étalées vers la droite ou la gauche de la moyenne.\n",
    "- Une skewness positive indique que la distribution a une queue plus longue du côté droit de la moyenne, ce qui signifie qu'il y a des valeurs extrêmement élevées.\n",
    "- Une skewness négative indique que la distribution a une queue plus longue du côté gauche de la moyenne, ce qui signifie qu'il y a des valeurs extrêmement faibles.\n",
    "\n",
    "- Une skewness de zéro indique que la distribution est relativement symétrique autour de la moyenne.\n",
    "\n",
    "**Kurtosis (Aplatissement) :**\n",
    "La kurtosis mesure la \"pointe\" ou l'\"aplatissement\" d'une distribution par rapport à la distribution normale (gaussienne). Une distribution normale a une kurtosis de 3. Si la kurtosis est supérieure à 3, la distribution est plus pointue et étroite que la normale (distribution leptokurtique). Si la kurtosis est inférieure à 3, la distribution est plus plate et large que la normale (distribution platykurtique).\n",
    "\n",
    "En résumé, la skewness et la kurtosis sont des mesures statistiques qui fournissent des informations sur la forme, l'asymétrie et la concentration des données dans une distribution. Elles sont utiles pour comprendre les caractéristiques de la distribution des données et pour détecter des anomalies dans les données."
   ]
  },
  {
   "cell_type": "code",
   "execution_count": null,
   "metadata": {},
   "outputs": [],
   "source": [
    "detecter_outliers(products,'price', seuil=2.0)"
   ]
  },
  {
   "cell_type": "markdown",
   "metadata": {},
   "source": [
    "<a id=\"section2\"></a>\n",
    "# **JOINTURES**\n",
    "---"
   ]
  },
  {
   "cell_type": "markdown",
   "metadata": {},
   "source": [
    "## Tests et études de jointures entre transactions et products"
   ]
  },
  {
   "cell_type": "code",
   "execution_count": null,
   "metadata": {},
   "outputs": [],
   "source": [
    "# Utilisation de la fonction pour étudier les jointures\n",
    "etudier_jointures(transactions[['id_prod']], products[['id_prod']])"
   ]
  },
  {
   "cell_type": "code",
   "execution_count": null,
   "metadata": {},
   "outputs": [],
   "source": [
    "# Etude du nombre de clés manquantes entre la table transactions et  products\n",
    "identifier_differences_entre_cles(transactions, products, keys_df1=['id_prod'], keys_df2=['id_prod'])"
   ]
  },
  {
   "cell_type": "markdown",
   "metadata": {},
   "source": [
    "On garde la jointure left car dans la jointure right on ne garde pas les produits qui n'ont pas eu de transactions."
   ]
  },
  {
   "cell_type": "code",
   "execution_count": null,
   "metadata": {},
   "outputs": [],
   "source": [
    "# On va créer 2 df, un avec nos produits sans vente et l'autre avec seulement les produits avec des ventes pour regarder le CA.\n",
    "df_avec_produits_sans_vente = pd.merge(transactions,products, how='right', on='id_prod')\n",
    "df = pd.merge(transactions,products, how='left', on='id_prod')"
   ]
  },
  {
   "cell_type": "code",
   "execution_count": null,
   "metadata": {},
   "outputs": [],
   "source": [
    "etude_fichier(df)"
   ]
  },
  {
   "cell_type": "markdown",
   "metadata": {},
   "source": [
    "## Tests et étude de jointure entre df et customers"
   ]
  },
  {
   "cell_type": "code",
   "execution_count": null,
   "metadata": {},
   "outputs": [],
   "source": [
    "# Utilisation de la fonction pour étudier les jointures\n",
    "etudier_jointures(df[['client_id']], customers[['client_id']])"
   ]
  },
  {
   "cell_type": "code",
   "execution_count": null,
   "metadata": {},
   "outputs": [],
   "source": [
    "# Etude du nombre de clés manquantes entre la table transactions et customers\n",
    "identifier_differences_entre_cles(df, customers, keys_df1=['client_id'], keys_df2=['client_id'])"
   ]
  },
  {
   "cell_type": "code",
   "execution_count": null,
   "metadata": {},
   "outputs": [],
   "source": [
    "# On va créer 2 df, un avec nos produits sans vente et l'autre avec seulement les produits avec des ventes pour regarder le CA.\n",
    "dft_avec_produits_sans_vente = pd.merge(df,customers, how='right', on='client_id')\n",
    "dft = pd.merge(df,customers, how='left', on='client_id')"
   ]
  },
  {
   "cell_type": "code",
   "execution_count": null,
   "metadata": {},
   "outputs": [],
   "source": [
    "etude_fichier(dft)"
   ]
  },
  {
   "cell_type": "markdown",
   "metadata": {},
   "source": [
    "<a id=\"section3\"></a>\n",
    "# **MANIPULATION DFT**\n",
    "---"
   ]
  },
  {
   "cell_type": "markdown",
   "metadata": {},
   "source": [
    "## Etude DFT"
   ]
  },
  {
   "cell_type": "code",
   "execution_count": null,
   "metadata": {},
   "outputs": [],
   "source": [
    "dft.head()"
   ]
  },
  {
   "cell_type": "code",
   "execution_count": null,
   "metadata": {},
   "outputs": [],
   "source": [
    "etude_fichier(dft)"
   ]
  },
  {
   "cell_type": "code",
   "execution_count": null,
   "metadata": {},
   "outputs": [],
   "source": [
    "analyse_statistique(dft)"
   ]
  },
  {
   "cell_type": "markdown",
   "metadata": {},
   "source": [
    "## Modifications DFT"
   ]
  },
  {
   "cell_type": "code",
   "execution_count": null,
   "metadata": {},
   "outputs": [],
   "source": [
    "# Conversion de la colonne \"birth\" en format année\n",
    "dft['birth'] = pd.to_numeric(dft['birth'], errors='coerce').astype(pd.Int64Dtype()) # Convertir en type entier\n",
    "\n",
    "# Convertir la colonne \"date\" en format de date\n",
    "dft['date'] = pd.to_datetime(dft['date'], format='%Y-%m-%d %H:%M:%S.%f', errors='coerce')\n",
    "\n",
    "# Calcul de l'âge\n",
    "current_year = datetime.now().year\n",
    "dft['age'] = current_year - dft['birth']"
   ]
  },
  {
   "cell_type": "code",
   "execution_count": null,
   "metadata": {},
   "outputs": [],
   "source": [
    "# Définition des intervalles d'âge\n",
    "intervalles = [0, 18, 30, 40, 50, 60, 70, float('inf')]\n",
    "tranche = ['0-18', '19-30', '31-40', '41-50', '51-60', '61-70', '70+']\n",
    "\n",
    "# Création de la colonne \"age_group\" avec les tranches d'âge\n",
    "dft['tranche'] = pd.cut(dft['age'], bins=intervalles, labels=tranche, right=False)"
   ]
  },
  {
   "cell_type": "code",
   "execution_count": null,
   "metadata": {},
   "outputs": [],
   "source": [
    "# Conversion de l'age en int\n",
    "dft['age'] = pd.to_numeric(dft['age'], errors='coerce')\n",
    "\n",
    "# Conversion de categ en string\n",
    "dft['categ'] = dft['categ'].astype(str)"
   ]
  },
  {
   "cell_type": "code",
   "execution_count": null,
   "metadata": {},
   "outputs": [],
   "source": [
    "# pour l'attribution des profils je dois me débarsser des nuls qui crée des erreur dans la fonction assign profile\n",
    "dft.dropna(subset=['age', 'sex'], inplace=True)"
   ]
  },
  {
   "cell_type": "code",
   "execution_count": null,
   "metadata": {},
   "outputs": [],
   "source": [
    "def assign_profile(row):\n",
    "    age = row['age']\n",
    "    sex = row['sex']\n",
    "\n",
    "    # Définir la tranche d'âge\n",
    "    if age < 18:\n",
    "        tranche = '0-18'\n",
    "    elif age < 30:\n",
    "        tranche = '18-30'\n",
    "    elif age < 40:\n",
    "        tranche = '30-40'\n",
    "    elif age < 50:\n",
    "        tranche = '40-50'\n",
    "    elif age < 60:\n",
    "        tranche = '50-60'\n",
    "    elif age < 70:\n",
    "        tranche = '60-70'\n",
    "    else:\n",
    "        tranche = '70+'\n",
    "\n",
    "    # Définir le profil en combinant le sexe et la tranche d'âge\n",
    "    if sex == 'm':\n",
    "        profil = 'Homme'\n",
    "    else:\n",
    "        profil = 'Femme'\n",
    "\n",
    "    return profil + ' entre ' + tranche + ' ans'\n",
    "\n",
    "# Appliquer la fonction d'assignation de profil à chaque ligne du DataFrame\n",
    "dft['profil'] = dft.apply(assign_profile, axis=1)"
   ]
  },
  {
   "cell_type": "code",
   "execution_count": null,
   "metadata": {},
   "outputs": [],
   "source": [
    "# Calculer le panier moyen par âge\n",
    "panier_moyen_par_age = round(dft.groupby('age')['price'].mean().reset_index(name='panier_moyen_par_age'))\n",
    "\n",
    "# Joindre cette information à votre dataframe original\n",
    "dft = dft.merge(panier_moyen_par_age, on='age', how='left')"
   ]
  },
  {
   "cell_type": "code",
   "execution_count": null,
   "metadata": {},
   "outputs": [],
   "source": [
    "dft.head()"
   ]
  },
  {
   "cell_type": "code",
   "execution_count": null,
   "metadata": {},
   "outputs": [],
   "source": [
    "# Calculer le panier moyen par tranche d'age\n",
    "panier_moyen_par_tranche_age = round(dft.groupby('tranche')['price'].mean().reset_index(name='panier_moyen_par_tranche_age'))\n",
    "\n",
    "# Joindre cette information à votre dataframe original\n",
    "dft = dft.merge(panier_moyen_par_tranche_age, on='tranche', how='left')"
   ]
  },
  {
   "cell_type": "code",
   "execution_count": null,
   "metadata": {},
   "outputs": [],
   "source": [
    "# Calculer la fréquence d'achat pour chaque client\n",
    "frequence_achat = dft.groupby('client_id').size().reset_index(name='frequence_achat')\n",
    "\n",
    "# Joindre cette information à votre dataframe original\n",
    "dft = dft.merge(frequence_achat, on='client_id', how='left')"
   ]
  },
  {
   "cell_type": "code",
   "execution_count": null,
   "metadata": {},
   "outputs": [],
   "source": [
    "dft.head()"
   ]
  },
  {
   "cell_type": "code",
   "execution_count": null,
   "metadata": {},
   "outputs": [],
   "source": [
    "dft.info()"
   ]
  },
  {
   "cell_type": "markdown",
   "metadata": {},
   "source": [
    "Nous avosn toutes les colonnes qui nous eeront nécessaires pour faire les analyses demandées. L'age des clients, leurs profils ainsi qu'une tranche d'age."
   ]
  },
  {
   "cell_type": "markdown",
   "metadata": {},
   "source": [
    "<a id=\"section4\"></a>\n",
    "# **ETUDE DU CA**\n",
    "---"
   ]
  },
  {
   "cell_type": "markdown",
   "metadata": {},
   "source": [
    "##  Evolution dans le temps et  décomposition en moyenne mobile pour évaluer la tendance golbale"
   ]
  },
  {
   "cell_type": "code",
   "execution_count": null,
   "metadata": {},
   "outputs": [],
   "source": [
    "# Regrouper les données par mois et calculer le chiffre d'affaires total par mois\n",
    "vente_mois = dft.groupby(pd.Grouper(key='date', freq='M')).sum()['price']\n",
    "vente_mois.head()"
   ]
  },
  {
   "cell_type": "code",
   "execution_count": null,
   "metadata": {},
   "outputs": [],
   "source": [
    "# Calcul de la moyenne mobile avec une fenêtre de 3\n",
    "\n",
    "'''La moyenne mobile est une méthode couramment utilisée pour lisser les fluctuations temporaires dans les séries de données\n",
    "En d'autres termes, elle aide à éliminer le \"bruit\" et à mettre en évidence la tendance sous-jacente.\n",
    "\n",
    "La \"fenêtre\" est le nombre de périodes de temps sur lesquelles la moyenne est calculée.\n",
    "Ici, nous utilisons une fenêtre de 3, ce qui signifie que nous calculons la moyenne des ventes pour chaque groupe de 3 mois consécutifs.\n",
    "\n",
    "vente_mois.rolling(window=3).mean() crée une nouvelle série de données où chaque point est la moyenne des ventes des 3 mois précédents.\n",
    "#Note : Les deux premiers points de la série de la moyenne mobile seront NaN parce qu'ils n'ont pas deux mois précédents sur lesquels calculer une moyenne.'''\n",
    "rolling_mean = vente_mois.rolling(window=3).mean()\n"
   ]
  },
  {
   "cell_type": "code",
   "execution_count": null,
   "metadata": {},
   "outputs": [],
   "source": [
    "# Calcul de la régression linéaire pour la tendance\n",
    "\n",
    "'''Utiliser la régression linéaire pour trouver la meilleure ligne droite qui s'adapte aux données de vente mensuelles\n",
    "Les valeurs x sont les indices des mois (0, 1, 2, ...) et les valeurs y sont les ventes mensuelles'''\n",
    "slope, intercept, r_value, p_value, std_err = linregress(range(len(vente_mois)), vente_mois.values)\n",
    "\n",
    "'''Calcul de la ligne de tendance (y = mx + b) en utilisant la pente (m) et l'ordonnée à l'origine (b) calculées précédemment\n",
    "La liste \"trendline\" contient les valeurs y de la ligne de tendance pour chaque mois'''\n",
    "trendline = [slope * x + intercept for x in range(len(vente_mois))]\n",
    "\n",
    "# \"slope\" est la pente de la ligne, représentant le taux de changement des ventes par mois\n",
    "# \"intercept\" est l'ordonnée à l'origine, représentant la valeur de départ des ventes\n",
    "# \"r_value\" est le coefficient de corrélation, indiquant la force et la direction de la relation linéaire\n",
    "# \"p_value\" est la valeur-p, utilisée pour tester l'hypothèse nulle que la pente est nulle\n",
    "# \"std_err\" est l'erreur standard de l'estimation de la pente"
   ]
  },
  {
   "cell_type": "code",
   "execution_count": null,
   "metadata": {},
   "outputs": [],
   "source": [
    "plt.figure(figsize=(16, 8))\n",
    "\n",
    "# Affichage des données\n",
    "plt.plot(vente_mois.index, vente_mois.values, label='CA par mois', marker='o', linewidth=2)\n",
    "plt.plot(vente_mois.index, trendline, label='Tendance', color='green', marker='o', linewidth=2)\n",
    "plt.plot(vente_mois.index, rolling_mean, label='Moyenne roulante', color='red', marker='o', linewidth=2)\n",
    "\n",
    "# Ajouter les étiquettes de valeurs en dessous des coordonnées de chaque point\n",
    "for i, value in enumerate(vente_mois.values):\n",
    "    plt.text(vente_mois.index[i], value - 70, f\"{int(value)}\", ha='center', va='top', fontsize=10)\n",
    "\n",
    "# Ajouter une grille\n",
    "plt.grid(True, linestyle='--', alpha=0.5)\n",
    "\n",
    "# ajouter les titres des axes\n",
    "plt.title('Evolution du CA avec Tendance Linéaire')\n",
    "plt.xlabel('Date')\n",
    "plt.ylabel('CA')\n",
    "plt.legend()\n",
    "plt.show()"
   ]
  },
  {
   "cell_type": "code",
   "execution_count": null,
   "metadata": {},
   "outputs": [],
   "source": [
    "# Résample les données par trimestre\n",
    "vente_trimestre = vente_mois.resample('Q').sum()\n",
    "\n",
    "# Calcul de la régression linéaire pour la tendance\n",
    "slope, intercept, r_value, p_value, std_err = linregress(range(len(vente_trimestre)), vente_trimestre.values)\n",
    "trendline = [slope * x + intercept for x in range(len(vente_trimestre))]\n",
    "\n",
    "# Calcul de la moyenne roulante avec une fenêtre de 3\n",
    "rolling_mean = vente_trimestre.rolling(window=3).mean()\n",
    "\n",
    "plt.figure(figsize=(16, 8))\n",
    "\n",
    "# Affichage des données\n",
    "plt.plot(vente_trimestre.index, vente_trimestre.values, label='CA par trimestre', marker='o', linewidth=2)\n",
    "plt.plot(vente_trimestre.index, trendline, label='Tendance', color='green', marker='o', linewidth=2)\n",
    "plt.plot(vente_trimestre.index, rolling_mean, label='Moyenne roulante', color='red', marker='o', linewidth=2)\n",
    "\n",
    "# Ajout d'une grille\n",
    "plt.grid(True, linestyle='--', alpha=0.5)\n",
    "\n",
    "# Ajout des titres des axes\n",
    "plt.title('Evolution du CA avec Tendance Linéaire')\n",
    "plt.xlabel('Date')\n",
    "plt.ylabel('CA')\n",
    "\n",
    "# Création des étiquettes de trimestre\n",
    "quarter_labels = []\n",
    "for date in vente_trimestre.index:\n",
    "    quarter = (date.month - 1) // 3 + 1\n",
    "    quarter_labels.append(f'Q{quarter} {date.year}')\n",
    "\n",
    "x_offset = pd.Timedelta(days=20)  # Décalage horizontal en jours\n",
    "y_offset = 8000  # Décalage vertical\n",
    "\n",
    "# Ajout des valeurs de chaque point pour le CA par trimestre\n",
    "for i, value in enumerate(vente_trimestre.values):\n",
    "    plt.text(vente_trimestre.index[i] + x_offset, value + y_offset, f\"{int(value)}\", fontsize=9, color='blue')\n",
    "\n",
    "# Ajout des valeurs de chaque point pour la tendance\n",
    "for i, value in enumerate(trendline):\n",
    "    plt.text(vente_trimestre.index[i] + x_offset, value - y_offset, f\"{int(value)}\", fontsize=9, color='green')\n",
    "\n",
    "# Ajout des valeurs de chaque point pour la moyenne roulante\n",
    "for i, value in enumerate(rolling_mean.dropna().values):\n",
    "    plt.text(rolling_mean.dropna().index[i] + x_offset, value + y_offset, f\"{int(value)}\", fontsize=9, color='red')\n",
    "plt.xticks(vente_trimestre.index, quarter_labels)\n",
    "\n",
    "plt.legend()\n",
    "plt.show()"
   ]
  },
  {
   "cell_type": "markdown",
   "metadata": {},
   "source": [
    "##  Zoom sur les réfrences pour voir top et flop"
   ]
  },
  {
   "cell_type": "markdown",
   "metadata": {},
   "source": [
    "### Références les plus vendues et moins vendues en nombre de ventes"
   ]
  },
  {
   "cell_type": "code",
   "execution_count": null,
   "metadata": {},
   "outputs": [],
   "source": [
    "# Comparer les colonnes 'id_product' des deux DataFrames\n",
    "# 'isin' renvoie un masque booléen, True pour les valeurs présentes dans 'products' mais absentes dans 'dft'\n",
    "produit_sans_ventes = products[~products['id_prod'].isin(dft['id_prod'])]\n",
    "\n",
    "# Afficher les valeurs absentes\n",
    "print(produit_sans_ventes['id_prod'])"
   ]
  },
  {
   "cell_type": "code",
   "execution_count": null,
   "metadata": {},
   "outputs": [],
   "source": [
    "# Grouper par 'id_prod' et compter le nombre de ventes pour chaque référence\n",
    "ventes_par_reference = dft['id_prod'].value_counts()\n",
    "\n",
    "# Tri décroissant pour les références les plus vendues\n",
    "references_plus_vendues = ventes_par_reference.sort_values(ascending=False)\n",
    "\n",
    "# Affichage des références les plus vendues (les 10 premières lignes)\n",
    "print(\"Références les plus vendues:\")\n",
    "print(references_plus_vendues.head(10))"
   ]
  },
  {
   "cell_type": "code",
   "execution_count": null,
   "metadata": {},
   "outputs": [],
   "source": [
    "# Tracer le graphique en barres horizontales pour les références les plus vendues (top 15)\n",
    "plt.figure(figsize=(12, 6))\n",
    "\n",
    "# Trier les valeurs\n",
    "references_plus_vendues_sorted = references_plus_vendues.head(10).sort_values()\n",
    "\n",
    "# Utilisation de barh pour les barres horizontales\n",
    "bar_colors = plt.cm.get_cmap('viridis_r')(range(len(references_plus_vendues_sorted.index)))\n",
    "plt.barh(references_plus_vendues_sorted.index, references_plus_vendues_sorted.values, color=bar_colors)\n",
    "\n",
    "# Ajouter des étiquettes de valeur à droite de chaque barre\n",
    "for i, value in enumerate(references_plus_vendues_sorted.values):\n",
    "    plt.text(value + 1, i, f\"{value}\", va='center')\n",
    "\n",
    "# Personnaliser l'apparence du graphique\n",
    "plt.xlabel('Nombre de ventes', fontsize=12)\n",
    "plt.ylabel('Références (id_prod)', fontsize=12)\n",
    "plt.title('Top 15 des produits les plus vendus', fontsize=14)\n",
    "plt.xticks(fontsize=10)\n",
    "plt.tight_layout()\n",
    "\n",
    "# Ajout d'une grille\n",
    "plt.grid(True, linestyle='--', alpha=0.5)\n",
    "\n",
    "# Afficher le graphique\n",
    "plt.show()\n"
   ]
  },
  {
   "cell_type": "markdown",
   "metadata": {},
   "source": [
    "### Références les plus vendus en CA"
   ]
  },
  {
   "cell_type": "code",
   "execution_count": null,
   "metadata": {},
   "outputs": [],
   "source": [
    "# Les références les plus vendues (top)\n",
    "top_references = dft.groupby('id_prod').sum()['price'].nlargest(10)\n",
    "\n",
    "# Trier les références par ordre décroissant\n",
    "top_references_sorted = top_references.sort_values(ascending=True)"
   ]
  },
  {
   "cell_type": "code",
   "execution_count": null,
   "metadata": {},
   "outputs": [],
   "source": [
    "plt.figure(figsize=(12, 6))\n",
    "\n",
    "# Tracer le graphique des références les plus vendues\n",
    "bar_colors = plt.cm.get_cmap('viridis_r')(range(len(top_references_sorted.index)))\n",
    "plt.barh(top_references_sorted.index, top_references_sorted.values, color=bar_colors)  # Utilisation de barh pour les barres horizontales\n",
    "\n",
    "# Ajouter des étiquettes de valeur à droite de chaque barre\n",
    "for i, value in enumerate(top_references_sorted.values):\n",
    "    plt.text(value + 1, i, f\"{value:.2f}€\", va='center')\n",
    "\n",
    "# Personnaliser l'apparence du graphique\n",
    "plt.xlabel('Montant total des ventes', fontsize=12)\n",
    "plt.ylabel('Références', fontsize=12)\n",
    "plt.title('Références les plus vendues en CA', fontsize=14)\n",
    "plt.xticks(fontsize=10)\n",
    "plt.tight_layout()\n",
    "\n",
    "# Ajout d'une grille\n",
    "plt.grid(True, linestyle='--', alpha=0.5)\n",
    "\n",
    "# Afficher le graphique\n",
    "plt.show()"
   ]
  },
  {
   "cell_type": "code",
   "execution_count": null,
   "metadata": {},
   "outputs": [],
   "source": [
    "# Calculer le chiffre d'affaires total\n",
    "total_CA = dft['price'].sum()\n",
    "\n",
    "# Calculer le chiffre d'affaires pour les références les plus vendues (top 10)\n",
    "top_references_CA = top_references.sum()\n",
    "\n",
    "# Calculer le pourcentage du CA total réalisé par ces produits\n",
    "top_references_percentage = (top_references_CA / total_CA) * 100\n",
    "\n",
    "print(f\"Les 10 produits les plus vendus en termes de CA représentent {top_references_percentage:.2f}% du chiffre d'affaires total.\")"
   ]
  },
  {
   "cell_type": "markdown",
   "metadata": {},
   "source": [
    "### Références les moins vendues en CA"
   ]
  },
  {
   "cell_type": "code",
   "execution_count": null,
   "metadata": {},
   "outputs": [],
   "source": [
    "# Les références les moins vendues (flop)\n",
    "flop_references = dft.groupby('id_prod').sum()['price'].nsmallest(10)\n",
    "\n",
    "# Trier les références par ordre de grandeur (du plus petit au plus grand)\n",
    "flop_references_sorted = flop_references.sort_values()"
   ]
  },
  {
   "cell_type": "code",
   "execution_count": null,
   "metadata": {},
   "outputs": [],
   "source": [
    "plt.figure(figsize=(12, 6))\n",
    "\n",
    "# Tracer le graphique des références les moins vendues\n",
    "bar_colors = plt.cm.get_cmap('viridis_r')(range(len(flop_references_sorted.index)))\n",
    "plt.barh(flop_references_sorted.index, flop_references_sorted.values, color=bar_colors)\n",
    "\n",
    "# Ajouter des étiquettes de valeur à droite de chaque barre (collées aux colonnes)\n",
    "for i, value in enumerate(flop_references_sorted.values):\n",
    "    plt.text(value, i, f\"{value:.2f}€\", va='center', ha='left')  # Utiliser ha='left' pour l'alignement horizontal à gauche\n",
    "\n",
    "# Personnaliser l'apparence du graphique\n",
    "plt.xlabel('Montant total des ventes', fontsize=12)\n",
    "plt.ylabel('Références', fontsize=12)\n",
    "plt.title('Références les moins vendues en CA', fontsize=14)\n",
    "plt.xticks(fontsize=10)\n",
    "plt.tight_layout()\n",
    "# Ajout d'une grille\n",
    "plt.grid(True, linestyle='--', alpha=0.5)\n",
    "# Afficher le graphique\n",
    "plt.show()"
   ]
  },
  {
   "cell_type": "code",
   "execution_count": null,
   "metadata": {},
   "outputs": [],
   "source": [
    "dft.head()"
   ]
  },
  {
   "cell_type": "markdown",
   "metadata": {},
   "source": [
    "## Répartition du CA par catégorie"
   ]
  },
  {
   "cell_type": "code",
   "execution_count": null,
   "metadata": {},
   "outputs": [],
   "source": [
    "# Répartition par catégorie\n",
    "category_sales = dft.groupby('categ').sum()['price']\n",
    "total_sales = category_sales.sum()\n",
    "\n",
    "# Calculer la répartition en pourcentage\n",
    "category_sales_percentage = (category_sales / total_sales) * 100\n",
    "\n",
    "# Trier les catégories par ordre de grandeur\n",
    "category_sales_percentage_sorted = category_sales_percentage.sort_values(ascending=True)"
   ]
  },
  {
   "cell_type": "code",
   "execution_count": null,
   "metadata": {},
   "outputs": [],
   "source": [
    "plt.figure(figsize=(12, 6))\n",
    "\n",
    "# Tracer le graphique de la répartition par catégorie en pourcentage\n",
    "plt.barh(category_sales_percentage_sorted.index, category_sales_percentage_sorted.values)  # Utilisation de barh pour les barres horizontales\n",
    "plt.xlabel('Pourcentage du chiffre d\\'affaires total')\n",
    "plt.ylabel('Catégorie')\n",
    "plt.title('Répartition du chiffre d\\'affaires par catégorie (en pourcentage du total)')\n",
    "\n",
    "# Couleurs pour chaque catégorie\n",
    "colors = ['skyblue', 'orange', 'green']\n",
    "# Tracer le graphique de la répartition par catégorie en pourcentage\n",
    "plt.barh(category_sales_percentage_sorted.index, category_sales_percentage_sorted.values, color=colors)  # Utilisation de barh pour les barres horizontales\n",
    "\n",
    "# Ajouter des étiquettes de pourcentage à droite de chaque barre\n",
    "for i, value in enumerate(category_sales_percentage_sorted.values):\n",
    "    plt.text(value, i, f\"{value:.2f}%\", ha='left', va='center')\n",
    "# Ajout d'une grille\n",
    "plt.grid(True, linestyle='--', alpha=0.5)\n",
    "# Afficher le graphique\n",
    "plt.show()"
   ]
  },
  {
   "cell_type": "markdown",
   "metadata": {},
   "source": [
    "On remarque que 76% de notre CA vient des catégories 0 et 1."
   ]
  },
  {
   "cell_type": "markdown",
   "metadata": {},
   "source": [
    "## info sur les profils de nos clients"
   ]
  },
  {
   "cell_type": "markdown",
   "metadata": {},
   "source": [
    "### Etude sur la répartition de nos clients en focntion du sexe"
   ]
  },
  {
   "cell_type": "code",
   "execution_count": null,
   "metadata": {},
   "outputs": [],
   "source": [
    "# Compter le nombre de clients dans chaque sexe\n",
    "age_counts = dft['sex'].value_counts()"
   ]
  },
  {
   "cell_type": "code",
   "execution_count": null,
   "metadata": {},
   "outputs": [],
   "source": [
    "# Calculez les pourcentages correspondant à chaque sexe\n",
    "total_clients = age_counts.sum()\n",
    "sex_percentages = (age_counts / total_clients) * 100\n",
    "\n",
    "# Créer le graphique en barres\n",
    "plt.figure(figsize=(10, 6))\n",
    "bars = plt.bar(age_counts.index, age_counts.values, color='skyblue')\n",
    "\n",
    "# Ajoutez les pourcentages sur les barres\n",
    "for bar, percentage in zip(bars, sex_percentages):\n",
    "    plt.text(bar.get_x() + bar.get_width() / 2, bar.get_height(), f'{percentage:.1f}%', ha='center', va='bottom')\n",
    "\n",
    "plt.xlabel('Sexe')\n",
    "plt.ylabel('Nombre de clients')\n",
    "plt.title('Répartition des clients par sexe avec pourcentages')\n",
    "plt.xticks(rotation=45)\n",
    "plt.grid(True, linestyle='--', alpha=0.5)\n",
    "plt.show()"
   ]
  },
  {
   "cell_type": "markdown",
   "metadata": {},
   "source": [
    "On remarque que le nombre de femmes et d'hommes dans nos client est relativeemtn égal."
   ]
  },
  {
   "cell_type": "markdown",
   "metadata": {},
   "source": [
    "### Etude sur la répartition de nos clients en focntion de la tranche d'age"
   ]
  },
  {
   "cell_type": "code",
   "execution_count": null,
   "metadata": {},
   "outputs": [],
   "source": [
    "# Compter le nombre de clients dans chaque tranche d'âge\n",
    "age_counts = dft['tranche'].value_counts()\n",
    "\n",
    "# Trier les tranches d'âge par ordre croissant pour le graphique\n",
    "age_counts = age_counts.sort_index()"
   ]
  },
  {
   "cell_type": "code",
   "execution_count": null,
   "metadata": {},
   "outputs": [],
   "source": [
    "# Normaliser les valeurs pour la mise à l'échelle des couleurs\n",
    "norm = plt.Normalize(age_counts.values.min(), age_counts.values.max())\n",
    "\n",
    "# Choisir une carte de couleurs\n",
    "cmap = plt.cm.viridis_r\n",
    "\n",
    "# Créer le graphique en barres\n",
    "plt.figure(figsize=(12, 6))\n",
    "bars = plt.bar(age_counts.index, age_counts.values, color=[cmap(norm(value)) for value in age_counts.values])\n",
    "\n",
    "plt.xlabel('Tranche d\\'âge')\n",
    "plt.ylabel('Nombre de clients')\n",
    "plt.title('Répartition des clients par tranche d\\'âge')\n",
    "plt.xticks(rotation=45, ha='right')\n",
    "\n",
    "# Ajouter les valeurs au-dessus des barres\n",
    "for bar in bars:\n",
    "    yval = bar.get_height()\n",
    "    plt.text(bar.get_x() + bar.get_width()/2, yval + 5, int(yval), ha='center', va='bottom')\n",
    "\n",
    "# Ajout d'une grille\n",
    "plt.grid(True, linestyle='--', alpha=0.5)\n",
    "\n",
    "# Ajuster les marges pour assurer que les étiquettes s'ajustent bien\n",
    "plt.tight_layout()\n",
    "\n",
    "# Afficher le graphique\n",
    "plt.show()"
   ]
  },
  {
   "cell_type": "markdown",
   "metadata": {},
   "source": [
    "Maintenant que l'on sait que la majorité de nos clients ont entre 31 et 60 ans, avce une plus forte concentration dans la fourchette 41-50 regardont la répartition par porfil."
   ]
  },
  {
   "cell_type": "markdown",
   "metadata": {},
   "source": [
    "### Répartition des clients par âge"
   ]
  },
  {
   "cell_type": "code",
   "execution_count": null,
   "metadata": {},
   "outputs": [],
   "source": [
    "# Compter le nombre de clients dans chaque âge\n",
    "age_counts = dft['age'].value_counts()\n",
    "\n",
    "# Trier les âges par ordre croissant pour le graphique\n",
    "age_counts = age_counts.sort_index()"
   ]
  },
  {
   "cell_type": "code",
   "execution_count": null,
   "metadata": {},
   "outputs": [],
   "source": [
    "# Normaliser les valeurs pour la mise à l'échelle des couleurs\n",
    "norm = plt.Normalize(age_counts.values.min(), age_counts.values.max())\n",
    "\n",
    "# Choisir une carte de couleurs\n",
    "cmap = plt.cm.viridis_r\n",
    "\n",
    "# Créer le graphique en barres\n",
    "plt.figure(figsize=(14, 6))\n",
    "\n",
    "# Créer chaque barre individuellement et définir sa couleur en fonction de sa hauteur\n",
    "for age, count in age_counts.iteritems():\n",
    "    plt.bar(age, count, color=cmap(norm(count)))\n",
    "\n",
    "plt.xlabel('Âge')\n",
    "plt.ylabel('Nombre de clients')\n",
    "plt.title('Répartition des clients par âge')\n",
    "plt.xticks(rotation=45, ha='right') # Ajuster l'angle de rotation et l'alignement\n",
    "\n",
    "# Ajout d'une grille\n",
    "plt.grid(True, linestyle='--', alpha=0.5)\n",
    "\n",
    "# Afficher le graphique\n",
    "plt.show()"
   ]
  },
  {
   "cell_type": "markdown",
   "metadata": {},
   "source": [
    "La majorité de nos clients ont entre 32 et 55 ans."
   ]
  },
  {
   "cell_type": "markdown",
   "metadata": {},
   "source": [
    "### Etude sur la répartition de nos clients en focntion du profil"
   ]
  },
  {
   "cell_type": "code",
   "execution_count": null,
   "metadata": {},
   "outputs": [],
   "source": [
    "# Compter le nombre de clients dans chaque profil\n",
    "age_counts = dft['profil'].value_counts()"
   ]
  },
  {
   "cell_type": "code",
   "execution_count": null,
   "metadata": {},
   "outputs": [],
   "source": [
    "# Créer une palette de couleurs\n",
    "colors = sns.color_palette('viridis', n_colors=len(age_counts))\n",
    "\n",
    "# Créer le graphique en barres\n",
    "plt.figure(figsize=(14, 6)) # Vous pouvez ajuster la taille du graphique\n",
    "bars = plt.bar(age_counts.index, age_counts.values, color=colors)\n",
    "plt.xlabel('Profil')\n",
    "plt.ylabel('Nombre de clients')\n",
    "plt.title('Répartition des clients par profil')\n",
    "plt.xticks(rotation=90, ha='right') # Ajuster l'angle de rotation et l'alignement\n",
    "\n",
    "# Ajout d'une grille\n",
    "plt.grid(True, linestyle='--', alpha=0.5)\n",
    "\n",
    "# Ajouter les valeurs au-dessus des barres\n",
    "for bar, color in zip(bars, colors):\n",
    "    yval = bar.get_height()\n",
    "    plt.text(bar.get_x() + bar.get_width()/2, yval + 5, int(yval), ha='center', va='bottom', color=color)\n",
    "\n",
    "# Ajuster les marges pour assurer que les étiquettes s'ajustent bien\n",
    "plt.tight_layout()\n",
    "\n",
    "# Afficher le graphique\n",
    "plt.show()\n"
   ]
  },
  {
   "cell_type": "markdown",
   "metadata": {},
   "source": [
    "On voit que le profil le plus réprésenté est celui des hommes entre 41 et 50 ans, Suivi pas les femmes du même âge. Regardons maintenant la répartition hommes femmes de notre populayion"
   ]
  },
  {
   "cell_type": "markdown",
   "metadata": {},
   "source": [
    "## Répartition du CA par clients"
   ]
  },
  {
   "cell_type": "markdown",
   "metadata": {},
   "source": [
    "### Calcul du CA par profil"
   ]
  },
  {
   "cell_type": "code",
   "execution_count": null,
   "metadata": {},
   "outputs": [],
   "source": [
    "# Calcul du chiffre d'affaires par profil client\n",
    "profit_vente = dft.groupby('profil')['price'].sum()\n",
    "total_vente = profit_vente.sum()\n",
    "\n",
    "# Calcul de la répartition en pourcentage\n",
    "profit_vente_pourcentage = (profit_vente / total_vente) * 100"
   ]
  },
  {
   "cell_type": "code",
   "execution_count": null,
   "metadata": {},
   "outputs": [],
   "source": [
    "# Trier le DataFrame dans l'ordre décroissant\n",
    "profit_vente_pourcentage_trie = profit_vente_pourcentage.sort_values(ascending=False)\n",
    "\n",
    "# Choisir une carte de couleurs\n",
    "cmap = plt.cm.viridis_r\n",
    "\n",
    "# Normaliser les valeurs pour qu'elles se situent entre 0 et 1\n",
    "norm = plt.Normalize(vmin=profit_vente_pourcentage_trie.min(), vmax=profit_vente_pourcentage_trie.max())\n",
    "\n",
    "# Affichage du diagramme à barres trié en pourcentage\n",
    "plt.figure(figsize=(14, 6))\n",
    "bars = plt.bar(profit_vente_pourcentage_trie.index, profit_vente_pourcentage_trie.values, color=[cmap(norm(value)) for value in profit_vente_pourcentage_trie.values])\n",
    "plt.xlabel('Profil client')\n",
    "plt.ylabel('Pourcentage du chiffre d\\'affaires total')\n",
    "plt.title('Répartition du chiffre d\\'affaires par profil client (trié décroissant, en pourcentage du total)')\n",
    "plt.xticks(rotation=45, ha='right')\n",
    "\n",
    "# Ajouter des étiquettes de pourcentage au-dessus de chaque barre\n",
    "for bar, value in zip(bars, profit_vente_pourcentage_trie.values):\n",
    "    plt.annotate(f\"{value:.2f}%\", (bar.get_x() + bar.get_width() / 2, value), ha='center', va='bottom')\n",
    "\n",
    "# Ajout d'une grille\n",
    "plt.grid(True, linestyle='--', alpha=0.5)\n",
    "\n",
    "# Ajuster les marges pour assurer que les étiquettes s'ajustent bien\n",
    "plt.tight_layout()\n",
    "\n",
    "# Afficher le graphique\n",
    "plt.show()\n"
   ]
  },
  {
   "cell_type": "markdown",
   "metadata": {},
   "source": [
    "## Courbe de lorenz"
   ]
  },
  {
   "cell_type": "markdown",
   "metadata": {},
   "source": [
    "La courbe de Lorenz est tracée en utilisant deux axes : l'axe horizontal représente le pourcentage cumulé des individus dans la population, tandis que l'axe vertical représente le pourcentage cumulé de la variable mesurée (par exemple, le chiffre d'affaires, le revenu, etc.)."
   ]
  },
  {
   "cell_type": "code",
   "execution_count": null,
   "metadata": {},
   "outputs": [],
   "source": [
    "dft.head()"
   ]
  },
  {
   "cell_type": "code",
   "execution_count": null,
   "metadata": {},
   "outputs": [],
   "source": [
    "# Calculer le chiffre d'affaires total par profil client\n",
    "ca_profil = dft.groupby('profil')['price'].sum()\n",
    "\n",
    "# Calculer le pourcentage de chiffre d'affaires réalisé par chaque profil client\n",
    "profit_vente_pourcentage = (ca_profil / ca_profil.sum()) * 100\n",
    "\n",
    "# Trier les profils clients en fonction du chiffre d'affaires\n",
    "profil_trie = profit_vente_pourcentage.sort_values(ascending=True) # changer le tri ?\n",
    "\n",
    "# Calculer les pourcentages cumulés du chiffre d'affaires\n",
    "pourcentage_cumule_ca = np.cumsum(profil_trie)\n",
    "\n",
    "# Calculer les pourcentages cumulés de la population\n",
    "population_cumule = np.arange(1, len(profil_trie) + 1) / len(profil_trie)"
   ]
  },
  {
   "cell_type": "code",
   "execution_count": null,
   "metadata": {},
   "outputs": [],
   "source": [
    "# Tracer la courbe de Lorenz avec la grille et les valeurs d'en-têtes\n",
    "plt.figure(figsize=(14, 6))\n",
    "\n",
    "# Tracer la courbe de Lorenz\n",
    "plt.plot(population_cumule, pourcentage_cumule_ca, label='Courbe de Lorenz')\n",
    "\n",
    "# Ajouter les points sur la courbe de Lorenz\n",
    "plt.scatter(population_cumule, pourcentage_cumule_ca, color='blue')\n",
    "\n",
    "plt.plot([0, 1], [0, 100], color='red', linestyle='--', label='Égalité parfaite')\n",
    "\n",
    "plt.xlabel('Pourcentage de population')\n",
    "plt.ylabel('Pourcentage du chiffre d\\'affaires')\n",
    "plt.title('Courbe de Lorenz du chiffre d\\'affaires par profil client')\n",
    "plt.legend()\n",
    "# Ajout d'une grille\n",
    "plt.grid(True, linestyle='--', alpha=0.5)\n",
    "plt.xticks(np.arange(0, 1.1, 0.1))  # Définir les étiquettes de l'axe x\n",
    "plt.yticks(np.arange(0, 101, 10))  # Définir les étiquettes de l'axe y\n",
    "\n",
    "plt.show()"
   ]
  },
  {
   "cell_type": "markdown",
   "metadata": {},
   "source": [
    "On remarque que 50% de notre population représente 70% de notre CA."
   ]
  },
  {
   "cell_type": "code",
   "execution_count": null,
   "metadata": {},
   "outputs": [],
   "source": [
    "# Calculer l'aire sous la courbe de Lorenz en utilisant la méthode des trapèzes\n",
    "aire_courbe_de_lorenz = np.trapz(pourcentage_cumule_ca, population_cumule).round()\n",
    "\n",
    "# Afficher l'aire sous la courbe de Lorenz\n",
    "print(\"Aire sous la courbe de Lorenz:\", aire_courbe_de_lorenz)"
   ]
  },
  {
   "cell_type": "markdown",
   "metadata": {},
   "source": [
    "L'aire sous la courbe de Lorenz représente la proportion de la totalité de la distribution (dans ce cas, le CA) détenue par une proportion donnée de la population (les clients). Une aire de 37.0 indique que la distribution est fortement inégale, avec une grande proportion du CA provenant d'une petite proportion de la population."
   ]
  },
  {
   "cell_type": "code",
   "execution_count": null,
   "metadata": {},
   "outputs": [],
   "source": [
    "# Calculer l'aire totale sous la ligne d'égalité parfaite (A)\n",
    "A = 0.5\n",
    "\n",
    "# Calculer l'aire entre la courbe de Lorenz et la ligne d'égalité parfaite (B)\n",
    "B = aire_courbe_de_lorenz - A\n",
    "\n",
    "# Calculer l'indice de Gini (G)\n",
    "gini_index = B / A\n",
    "\n",
    "# Afficher l'indice de Gini\n",
    "print(\"Indice de Gini:\", gini_index)"
   ]
  },
  {
   "cell_type": "markdown",
   "metadata": {},
   "source": [
    "Indice de Gini: 73.0\n",
    "L'indice de Gini est une mesure de l'inégalité qui varie entre 0 et 100. Un indice de 0 représente une distribution parfaitement équitable (chaque client contribue de manière égale au CA), tandis qu'un indice de 100 représente une inégalité totale (tout le CA provient d'un seul client).\n",
    "\n",
    "Un indice de Gini de 73.0 est considéré comme très élevé et indique une inégalité importante dans la distribution du CA parmi vos clients. Cela signifie que la majorité du CA est générée par une petite proportion de vos clients.\n",
    "\n"
   ]
  },
  {
   "cell_type": "markdown",
   "metadata": {},
   "source": [
    "Conclusion\n",
    "Ces valeurs indiquent que votre entreprise dépend fortement d'un petit segment de clients pour générer la majorité de son chiffre d'affaires"
   ]
  },
  {
   "cell_type": "markdown",
   "metadata": {},
   "source": [
    "<a id=\"section5\"></a>\n",
    "# **CORRELATIONS**\n",
    "---"
   ]
  },
  {
   "cell_type": "markdown",
   "metadata": {
    "jp-MarkdownHeadingCollapsed": true,
    "tags": []
   },
   "source": [
    "## le lien entre le genre d'un client et les catégories de livres achetées"
   ]
  },
  {
   "cell_type": "code",
   "execution_count": null,
   "metadata": {},
   "outputs": [],
   "source": [
    "# Grouper les données par 'sex' et 'categ', puis compter le nombre de produits dans chaque groupe\n",
    "nombre_par_categorie = dft.groupby(['sex', 'categ']).count()['id_prod']"
   ]
  },
  {
   "cell_type": "code",
   "execution_count": null,
   "metadata": {},
   "outputs": [],
   "source": [
    "sexes =['f', 'm']\n",
    "categories = ['0','1','2']\n",
    "\n",
    "# Couleurs pour les hommes et les femmes\n",
    "colors = ['blue', 'yellow']\n",
    "\n",
    "# Configuration du graphique\n",
    "x = range(len(categories))\n",
    "width = 0.35\n",
    "\n",
    "# Création du graphique à barres\n",
    "fig, ax = plt.subplots()\n",
    "for i, sex in enumerate(sexes):\n",
    "    ax.bar([val + i * width for val in x], nombre_par_categorie[i::len(sexes)], width, label=sex, color=colors[i])\n",
    "\n",
    "# Paramètres du graphique\n",
    "ax.set_xlabel('Catégorie')\n",
    "ax.set_ylabel('Nombre de produits')\n",
    "ax.set_title('Nombre de produits par sexe et catégorie')\n",
    "ax.set_xticks([val + width / 2 for val in x])\n",
    "ax.set_xticklabels(categories)\n",
    "ax.legend()\n",
    "# Ajout d'une grille\n",
    "plt.grid(True, linestyle='--', alpha=0.5)\n",
    "# Affichage du graphique\n",
    "plt.show()"
   ]
  },
  {
   "cell_type": "markdown",
   "metadata": {},
   "source": [
    "On remarque que selon les catégories le nombre de produtis acheté par les clietns selon leur sexe varie enormément. On peut penser que la catégorie 1 est plus préféré cehz les hommes et l'inverse pour la catégorie 2. Pour la Catégorie 0 on a une forte présence des hommes mais aussi une forte présence des femmes mais moindre."
   ]
  },
  {
   "cell_type": "markdown",
   "metadata": {},
   "source": [
    "On choisit d'utiliser le test du Chi-carré car nous avons deux variables catégorielles. on ne peut donc pas utiliser une corrélation classiques."
   ]
  },
  {
   "cell_type": "code",
   "execution_count": null,
   "metadata": {},
   "outputs": [],
   "source": [
    "# Création d'un tableau de contingence\n",
    "contingency_table = pd.crosstab(dft['sex'], dft['categ'])\n",
    "\n",
    "# Application du test du Chi-carré\n",
    "chi2, p, dof, expected = chi2_contingency(contingency_table)\n",
    "\n",
    "# Afficher les résultats\n",
    "print('Tableau de contingence :')\n",
    "print(contingency_table)\n",
    "print()\n",
    "print('Résultats du test du Chi-carré :')\n",
    "print()\n",
    "print('Valeur de Chi2 :', chi2)\n",
    "print()\n",
    "print('P-valeur :', p)\n",
    "print()\n",
    "print('Degrés de liberté :', dof)\n",
    "print()\n",
    "print('Tableau des fréquences attendues :')\n",
    "expected_table = pd.DataFrame(expected, index=contingency_table.index, columns=contingency_table.columns)\n",
    "expected_table = expected_table.round() \n",
    "print(expected_table)"
   ]
  },
  {
   "cell_type": "code",
   "execution_count": null,
   "metadata": {},
   "outputs": [],
   "source": [
    "# Calcul de la différence entre les deux tables\n",
    "difference_table = contingency_table - expected_table\n",
    "\n",
    "# Calcul du pourcentage de la différnce\n",
    "percentage_difference_table = round((difference_table / expected_table) * 100)\n",
    "\n",
    "print(\"\\nPercentage Difference Table:\")\n",
    "\n",
    "# Creation heatmap\n",
    "plt.figure(figsize=(8, 6))\n",
    "sns.heatmap(percentage_difference_table, annot=True, cmap='coolwarm')\n",
    "plt.show()"
   ]
  },
  {
   "cell_type": "markdown",
   "metadata": {},
   "source": [
    "Ces résultats indiquent que le test du Chi-carré a trouvé une association statistiquement significative entre le sexe du client et la catégorie de produits qu'ils achètent.\n",
    "\n",
    "La valeur de Chi2 est assez élevée, ce qui indique une forte déviation par rapport à ce que nous attendrions si les deux variables étaient indépendantes. De plus, la p-valeur est extrêmement petite (bien en dessous du seuil standard de 0,05), ce qui signifie que le résultat est très probablement statistiquement significatif et non dû au hasard.\n",
    "\n",
    "En conclusion, sur la base de ces résultats, il semble qu'il existe une corrélation entre le sexe d'un client et la catégorie de produits qu'il achète. Cependant, cela ne signifie pas nécessairement qu'il y a une relation de cause à effet. D'autres facteurs pourraient être à l'œuvre. (age, revenu,...)"
   ]
  },
  {
   "cell_type": "markdown",
   "metadata": {
    "jp-MarkdownHeadingCollapsed": true,
    "tags": []
   },
   "source": [
    "## le lien entre l'âge des clients et le montant total des achats"
   ]
  },
  {
   "cell_type": "code",
   "execution_count": null,
   "metadata": {},
   "outputs": [],
   "source": [
    "# Grouper les données par âge et calculer la somme du montant total des achats\n",
    "age_total_purchase = dft.groupby('age')['price'].sum()"
   ]
  },
  {
   "cell_type": "code",
   "execution_count": null,
   "metadata": {},
   "outputs": [],
   "source": [
    "# Obtenir les valeurs d'âge et les montants totaux des achats\n",
    "ages = age_total_purchase.index\n",
    "purchase_totals = age_total_purchase.values\n",
    "\n",
    "# Normaliser les valeurs d'achat pour la mise à l'échelle des couleurs\n",
    "norm = plt.Normalize(purchase_totals.min(), purchase_totals.max())\n",
    "\n",
    "# Choisir une carte de couleurs\n",
    "cmap = plt.cm.viridis_r\n",
    "\n",
    "# Créer le graphique à barres\n",
    "plt.figure(figsize=(14, 6))\n",
    "plt.bar(ages, purchase_totals, color=[cmap(norm(value)) for value in purchase_totals])\n",
    "plt.xlabel('Âge')\n",
    "plt.ylabel('Montant total des achats')\n",
    "plt.title('Répartition du montant total des achats en fonction de l\\'âge')\n",
    "\n",
    "# Ajouter une grille\n",
    "plt.grid(True, linestyle='--', alpha=0.5)\n",
    "\n",
    "# Afficher le graphique\n",
    "plt.show()"
   ]
  },
  {
   "cell_type": "markdown",
   "metadata": {},
   "source": [
    "On remarque que nous avons beaucoup de personnes de 43 ans qui effectue des achats, ce qui correspond à notre tranche d'age la plus active. Cependant on remarque aussi que beaucoup de personnes de 18 ans effectue des achats. Cela est plus surprenant mais peut s'expliquer par le fait de posséder une carte bleu ou d'être majeur poiur ouvrir un compte client. Donc les mineurs doivent renseigner 18 ans pour pouvoir acheter un produit."
   ]
  },
  {
   "cell_type": "markdown",
   "metadata": {},
   "source": [
    "Nosu allons utiliser le coefficient de corrélation de Pearson qui est le plus adpaté pour deux variables continues. il mesure la force et la direction de la relation linéaire entre les variables."
   ]
  },
  {
   "cell_type": "code",
   "execution_count": null,
   "metadata": {},
   "outputs": [],
   "source": [
    "# Calculer la corrélation et la p-valeur du montant total des achats en fonction de l'age\n",
    "corr, p_value = pearsonr(dft['age'], dft['price'])\n",
    "print('Correlation: ', corr)\n",
    "print()\n",
    "print('P-value: ', p_value)"
   ]
  },
  {
   "cell_type": "code",
   "execution_count": null,
   "metadata": {},
   "outputs": [],
   "source": [
    "# corrélation entre l'age et le prix \n",
    "corr = dft[['age','price']].corr()\n",
    "\n",
    "# Creation heatmap\n",
    "plt.figure(figsize=(8, 6))\n",
    "sns.heatmap(corr, annot=True, cmap='coolwarm')\n",
    "plt.show()"
   ]
  },
  {
   "cell_type": "markdown",
   "metadata": {},
   "source": [
    "La corrélation entre l'âge des clients et le montant total des achats est de -0.20749608778813317, ce qui indique une corrélation négative faible. Le p-value est de 0.0, ce qui suggère que cette corrélation est statistiquement significative. Cela signifie qu'il existe une relation significative entre l'âge des clients et le montant total des achats, mais la corrélation est faible.\n",
    "\n",
    "Veuillez noter que cette corrélation ne capture qu'une relation linéaire entre les deux variables et d'autres facteurs peuvent également influencer le montant total des achats. Il peut être utile d'explorer d'autres techniques d'analyse pour mieux comprendre la relation entre ces variables."
   ]
  },
  {
   "cell_type": "markdown",
   "metadata": {
    "jp-MarkdownHeadingCollapsed": true,
    "tags": []
   },
   "source": [
    "## le lien entre l'age des clients et la fréquence d'achat"
   ]
  },
  {
   "cell_type": "code",
   "execution_count": null,
   "metadata": {},
   "outputs": [],
   "source": [
    "# Grouper les données par âge et compter le nombre d'achats dans chaque groupe\n",
    "achat_par_age = dft.groupby('age').count()['id_prod']"
   ]
  },
  {
   "cell_type": "code",
   "execution_count": null,
   "metadata": {},
   "outputs": [],
   "source": [
    "# Normaliser les valeurs de fréquence d'achat pour la mise à l'échelle des couleurs\n",
    "norm = plt.Normalize(achat_par_age.values.min(), achat_par_age.values.max())\n",
    "\n",
    "# Choisir une carte de couleurs\n",
    "cmap = plt.cm.viridis_r\n",
    "\n",
    "# Créer le graphique à barres\n",
    "fig, ax = plt.subplots(figsize=(14, 6))\n",
    "bars = ax.bar(achat_par_age.index, achat_par_age.values, color=[cmap(norm(value)) for value in achat_par_age.values])\n",
    "\n",
    "# Paramètres du graphique\n",
    "ax.set_xlabel('Âge')\n",
    "ax.set_ylabel('Fréquence d\\'achat')\n",
    "ax.set_title('Fréquence d\\'achat en fonction de l\\'âge')\n",
    "\n",
    "# Ajouter une grille\n",
    "ax.grid(True, linestyle='--', alpha=0.5)\n",
    "\n",
    "# Affichage du graphique\n",
    "plt.show()"
   ]
  },
  {
   "cell_type": "markdown",
   "metadata": {},
   "source": [
    "On retrouve les personnes de 43 ans qui sont les plus présentes dans nos statistique en termes d'aceht et de présence. De 31 à 55 est la tranche d'age la plus active en terle de fréquence d'achat."
   ]
  },
  {
   "cell_type": "markdown",
   "metadata": {},
   "source": [
    "Nosu allons utiliser le coefficient de corrélation de Pearson qui est le plus adpaté pour deux variables continues. il mesure la force et la direction de la relation linéaire entre les variables."
   ]
  },
  {
   "cell_type": "code",
   "execution_count": null,
   "metadata": {},
   "outputs": [],
   "source": [
    "# Calculer la corrélation et la p-valeur de la fréquence d'achat en fonction de l'age\n",
    "corr, p_value = pearsonr(dft['age'], dft['frequence_achat'])\n",
    "print('Correlation: ', corr)\n",
    "print()\n",
    "print('P-value: ', p_value)"
   ]
  },
  {
   "cell_type": "code",
   "execution_count": null,
   "metadata": {},
   "outputs": [],
   "source": [
    "# corrélation avec la fonction pandas\n",
    "corr = dft[['age','frequence_achat']].corr()\n",
    "\n",
    "# Creation heatmap\n",
    "plt.figure(figsize=(8, 6))\n",
    "sns.heatmap(corr, annot=True, cmap='coolwarm')\n",
    "plt.show()"
   ]
  },
  {
   "cell_type": "markdown",
   "metadata": {},
   "source": [
    "La corrélation de Pearson entre l'âge des clients et la fréquence d'achat est de -0.0185, ce qui indique une faible corrélation entre l'âge et la fréquence d'acaht des cleitns. La p-valeur associée est très faible (4.09e-53), ce qui suggère une corrélation significative entre l'age et la fréquence d'achat."
   ]
  },
  {
   "cell_type": "markdown",
   "metadata": {
    "jp-MarkdownHeadingCollapsed": true,
    "tags": []
   },
   "source": [
    "## le lien entre l'age du client et la taille du panier moyen"
   ]
  },
  {
   "cell_type": "markdown",
   "metadata": {},
   "source": [
    "### Par tranche d'ages"
   ]
  },
  {
   "cell_type": "code",
   "execution_count": null,
   "metadata": {},
   "outputs": [],
   "source": [
    "# Grouper les données par âge et calculer la taille moyenne du panier\n",
    "panier_moyen_par_tranche = dft.groupby('tranche')['panier_moyen_par_age'].mean()"
   ]
  },
  {
   "cell_type": "code",
   "execution_count": null,
   "metadata": {},
   "outputs": [],
   "source": [
    "# Obtenir les valeurs minimales et maximales\n",
    "min_value = panier_moyen_par_tranche.min()\n",
    "max_value = panier_moyen_par_tranche.max()\n",
    "\n",
    "# Créer un diagramme à barres\n",
    "plt.figure(figsize=(14, 6))\n",
    "bars = plt.bar(panier_moyen_par_tranche.index, panier_moyen_par_tranche.values, alpha=0.5)\n",
    "\n",
    "# Appliquer la couleur en fonction de la hauteur des barres\n",
    "for bar, value in zip(bars, panier_moyen_par_tranche.values):\n",
    "    bar.set_color(plt.cm.viridis_r((value - min_value) / (max_value - min_value)))\n",
    "\n",
    "plt.xlabel('Âge')\n",
    "plt.ylabel('Taille du panier moyen en euros')\n",
    "plt.title('Lien entre la tranche d\\'age du client et la taille du panier moyen')\n",
    "\n",
    "plt.show()"
   ]
  },
  {
   "cell_type": "markdown",
   "metadata": {},
   "source": [
    "### Par age"
   ]
  },
  {
   "cell_type": "code",
   "execution_count": null,
   "metadata": {},
   "outputs": [],
   "source": [
    "# Grouper les données par âge et calculer la taille moyenne du panier\n",
    "panier_moyen_par_age = dft.groupby('age')['panier_moyen_par_age'].mean()"
   ]
  },
  {
   "cell_type": "code",
   "execution_count": null,
   "metadata": {},
   "outputs": [],
   "source": [
    "dft['panier_moyen_par_age'].mean()"
   ]
  },
  {
   "cell_type": "code",
   "execution_count": null,
   "metadata": {},
   "outputs": [],
   "source": [
    "# Obtenir les valeurs minimales et maximales\n",
    "min_value = panier_moyen_par_age.min()\n",
    "max_value = panier_moyen_par_age.max()\n",
    "\n",
    "# Créer un diagramme à barres\n",
    "plt.figure(figsize=(14, 6))\n",
    "bars = plt.bar(panier_moyen_par_age.index, panier_moyen_par_age.values, alpha=0.5)\n",
    "\n",
    "# Appliquer la couleur en fonction de la hauteur des barres\n",
    "for bar, value in zip(bars, panier_moyen_par_age.values):\n",
    "    bar.set_color(plt.cm.viridis_r((value - min_value) / (max_value - min_value)))\n",
    "\n",
    "plt.xlabel('Âge')\n",
    "plt.ylabel('Taille du panier moyen en euros')\n",
    "plt.title('Lien entre l\\'âge du client et la taille du panier moyen')\n",
    "\n",
    "plt.show()"
   ]
  },
  {
   "cell_type": "markdown",
   "metadata": {},
   "source": [
    "On remarque que les personnes entre 18 et 31 ans ont un panier moyen largement supérieur au reste de notre population."
   ]
  },
  {
   "cell_type": "markdown",
   "metadata": {},
   "source": [
    "### Corrélations"
   ]
  },
  {
   "cell_type": "markdown",
   "metadata": {},
   "source": [
    "Nosu allons utiliser le coefficient de corrélation de Pearson qui est le plus adpaté pour deux variables continues. il mesure la force et la direction de la relation linéaire entre les variables."
   ]
  },
  {
   "cell_type": "code",
   "execution_count": null,
   "metadata": {},
   "outputs": [],
   "source": [
    "# Calculer la corrélation et la p-valeur entre la taille du panier moyen et l'age\n",
    "corr, p_value = pearsonr(dft['age'], dft['panier_moyen_par_age'])\n",
    "print('Correlation: ', corr)\n",
    "print()\n",
    "print('P-value: ', p_value)"
   ]
  },
  {
   "cell_type": "code",
   "execution_count": null,
   "metadata": {},
   "outputs": [],
   "source": [
    "# calcul corrélation\n",
    "corr = dft[['age','panier_moyen_par_age']].corr()\n",
    "\n",
    "# Creation heatmap\n",
    "plt.figure(figsize=(8, 6))\n",
    "sns.heatmap(corr, annot=True, cmap='coolwarm')\n",
    "plt.show()"
   ]
  },
  {
   "cell_type": "markdown",
   "metadata": {},
   "source": [
    "La corrélation entre l'âge du client et la taille du panier moyen est de -0.4326, la corrélation est modérée, ce qui suggère qu'il existe une tendance à une diminution de la taille du panier moyen avec l'augmentation de l'âge. La p-valeur est de 0.0, ce qui suggère que cette corrélation est statistiquement significative. Cela signifie qu'il existe une relation significative entre l'âge du client et la taille de son panier moyen."
   ]
  },
  {
   "cell_type": "markdown",
   "metadata": {
    "jp-MarkdownHeadingCollapsed": true,
    "tags": []
   },
   "source": [
    "## le lien entre l'age et la catégorie de livre achetés"
   ]
  },
  {
   "cell_type": "markdown",
   "metadata": {},
   "source": [
    "2 approches au problème, une avec els tranches d'ages et l'autre avec l'age."
   ]
  },
  {
   "cell_type": "markdown",
   "metadata": {},
   "source": [
    "### Lien entre la tranche d'age et la catégorie de livre achetés"
   ]
  },
  {
   "cell_type": "markdown",
   "metadata": {},
   "source": [
    "#### Répartition du nombre de produits de la catégorie 0 en fonction de la tranche d'age"
   ]
  },
  {
   "cell_type": "code",
   "execution_count": null,
   "metadata": {},
   "outputs": [],
   "source": [
    "# Filtrer les données pour la catégorie 0\n",
    "category_0 = dft[dft['categ'] == '0']\n",
    "\n",
    "# Grouper les données par âge et compter le nombre de produits dans chaque groupe\n",
    "category_0_counts = category_0.groupby('age')['id_prod'].count()\n",
    "\n",
    "# Grouper les données par tranche d'âge et compter le nombre de produits dans chaque groupe\n",
    "category_counts_tranche_0 = category_0.groupby('tranche')['id_prod'].count()\n",
    "category_counts_tranche_0"
   ]
  },
  {
   "cell_type": "code",
   "execution_count": null,
   "metadata": {},
   "outputs": [],
   "source": [
    "# Données pour les catégories d'âge et le nombre de produits\n",
    "tranche = ['0-18', '19-30', '31-40', '41-50', '51-60', '61-70', '70+']\n",
    "nombre_produits = [0, 14412, 119972, 177018, 62257, 24801, 16999]\n",
    "\n",
    "# Normaliser les valeurs de nombre_produits\n",
    "norm = plt.Normalize(min(nombre_produits), max(nombre_produits))\n",
    "\n",
    "# Créer une palette de couleurs basée sur la normalisation\n",
    "colors = [plt.cm.viridis_r(norm(value)) for value in nombre_produits]\n",
    "\n",
    "# Créer le graphique à barres\n",
    "plt.figure(figsize=(14, 6))\n",
    "bars = plt.bar(tranche, nombre_produits, color=colors)\n",
    "\n",
    "# Ajouter des étiquettes et des titres\n",
    "plt.xlabel('Tranche d\\'âge')\n",
    "plt.ylabel('Nombre de produits')\n",
    "plt.title('Nombre de produits de la catégorie 0 par tranche d\\'âge')\n",
    "\n",
    "# Afficher le graphique\n",
    "plt.show()"
   ]
  },
  {
   "cell_type": "markdown",
   "metadata": {},
   "source": [
    "Les 31-50 ans sont ceux qui achète le plus de la catégorie 0"
   ]
  },
  {
   "cell_type": "markdown",
   "metadata": {},
   "source": [
    "#### Répartition du nombre de produits de la catégorie 1 en fonction de la tranche d'age"
   ]
  },
  {
   "cell_type": "code",
   "execution_count": null,
   "metadata": {},
   "outputs": [],
   "source": [
    "# Filtrer les données pour la catégorie 1\n",
    "category_1 = dft[dft['categ'] == '1']\n",
    "\n",
    "# Grouper les données par âge et compter le nombre de produits dans chaque groupe\n",
    "category_1_counts = category_1.groupby('age')['id_prod'].count()\n",
    "\n",
    "# Grouper les données par tranche d'âge et compter le nombre de produits dans chaque groupe\n",
    "category_counts_tranche_1 = category_1.groupby('tranche')['id_prod'].count()\n",
    "category_counts_tranche_1"
   ]
  },
  {
   "cell_type": "code",
   "execution_count": null,
   "metadata": {},
   "outputs": [],
   "source": [
    "# Données pour les catégories d'âge et le nombre de produits\n",
    "tranche = ['0-18', '19-30', '31-40', '41-50', '51-60', '61-70', '70+']\n",
    "nombre_produits = [0, 27656, 41628, 56309, 54896, 32685, 22418]\n",
    "\n",
    "# Normaliser les valeurs de nombre_produits\n",
    "norm = plt.Normalize(min(nombre_produits), max(nombre_produits))\n",
    "\n",
    "# Créer une palette de couleurs basée sur la normalisation\n",
    "colors = [plt.cm.viridis_r(norm(value)) for value in nombre_produits]\n",
    "# Créer le graphique à barres\n",
    "plt.figure(figsize=(14, 6))\n",
    "plt.bar(tranche, nombre_produits, color=colors)\n",
    "\n",
    "# Ajouter des étiquettes et des titres\n",
    "plt.xlabel('Tranche d\\'âge')\n",
    "plt.ylabel('Nombre de produits')\n",
    "plt.title('Nombre de produits de la categorie 1 par tranche d\\'âge')\n",
    "\n",
    "# Afficher le graphique\n",
    "plt.show()"
   ]
  },
  {
   "cell_type": "markdown",
   "metadata": {},
   "source": [
    "Pour la catégorie 1 la répartition est plus équilibré entre les tranches d'ages malgré une plius importante présence des 41-60 ans dnas notre population."
   ]
  },
  {
   "cell_type": "markdown",
   "metadata": {},
   "source": [
    "#### Répartition du nombre de produits de la catégorie 2 en fonction de la tranche d'age"
   ]
  },
  {
   "cell_type": "code",
   "execution_count": null,
   "metadata": {},
   "outputs": [],
   "source": [
    "# Filtrer les données pour la catégorie 2\n",
    "category_2 = dft[dft['categ'] == '2']\n",
    "\n",
    "# Grouper les données par âge et compter le nombre de produits dans chaque groupe\n",
    "category_2_counts = category_2.groupby('age')['id_prod'].count()\n",
    "\n",
    "# Grouper les données par tranche d'âge et compter le nombre de produits dans chaque groupe\n",
    "category_counts_tranche_2 = category_2.groupby('tranche')['id_prod'].count()\n",
    "category_counts_tranche_2"
   ]
  },
  {
   "cell_type": "code",
   "execution_count": null,
   "metadata": {},
   "outputs": [],
   "source": [
    "# Données pour les catégories d'âge et le nombre de produits\n",
    "tranche = ['0-18', '19-30', '31-40', '41-50', '51-60', '61-70', '70+']\n",
    "nombre_produits = [0, 29063, 4696, 769, 1056, 550, 349]\n",
    "\n",
    "# Normaliser les valeurs de nombre_produits\n",
    "norm = plt.Normalize(min(nombre_produits), max(nombre_produits))\n",
    "\n",
    "# Créer une palette de couleurs basée sur la normalisation\n",
    "colors = [plt.cm.viridis_r(norm(value)) for value in nombre_produits]\n",
    "\n",
    "# Créer le graphique à barres\n",
    "plt.figure(figsize=(14, 6))\n",
    "plt.bar(tranche, nombre_produits, color=colors)\n",
    "\n",
    "# Ajouter des étiquettes et des titres\n",
    "plt.xlabel('Catégorie d\\'âge')\n",
    "plt.ylabel('Nombre de produits')\n",
    "plt.title('Nombre de produits de la categorie 2 par tranche d\\'âge')\n",
    "\n",
    "# Afficher le graphique\n",
    "plt.show()"
   ]
  },
  {
   "cell_type": "markdown",
   "metadata": {},
   "source": [
    "Pour la catégorie 2 les 19-30 sont largement majoritaire."
   ]
  },
  {
   "cell_type": "markdown",
   "metadata": {
    "jp-MarkdownHeadingCollapsed": true,
    "tags": []
   },
   "source": [
    "### Lien entre l'age et la catégorie de livre achetés"
   ]
  },
  {
   "cell_type": "markdown",
   "metadata": {},
   "source": [
    "#### Répartition du nombre de produits de la catégorie 0 en fonction de l'age"
   ]
  },
  {
   "cell_type": "code",
   "execution_count": null,
   "metadata": {},
   "outputs": [],
   "source": [
    "# Normaliser les valeurs de category_0_counts\n",
    "norm = plt.Normalize(category_0_counts.min(), category_0_counts.max())\n",
    "\n",
    "# Créer une palette de couleurs basée sur la normalisation\n",
    "colors = [plt.cm.viridis_r(norm(value)) for value in category_0_counts]\n",
    "\n",
    "# Créer les positions des âges sur l'axe x\n",
    "x = np.arange(len(category_0_counts))\n",
    "\n",
    "# Créer la figure et l'axe avec une taille agrandie\n",
    "plt.figure(figsize=(14, 8))\n",
    "ax = plt.gca()\n",
    "\n",
    "# Créer les barres\n",
    "ax.bar(x, category_0_counts, width=0.5, color=colors)\n",
    "\n",
    "# Définir les étiquettes de l'axe x et le titre du graphique\n",
    "ax.set_xticks(x)\n",
    "ax.set_xticklabels(category_0_counts.index, rotation=45, ha='right')\n",
    "ax.set_xlabel('Âge')\n",
    "ax.set_ylabel('Nombre de produits')\n",
    "ax.set_title('Répartition du nombre de produits de la catégorie 0 en fonction de l\\'âge')\n",
    "\n",
    "# Ajuster les marges pour éviter que les étiquettes ne soient coupées\n",
    "plt.tight_layout()\n",
    "\n",
    "# Afficher le graphique\n",
    "plt.show()"
   ]
  },
  {
   "cell_type": "markdown",
   "metadata": {},
   "source": [
    "#### Répartition du nombre de produits de la catégorie 1 en fonction de l'age"
   ]
  },
  {
   "cell_type": "code",
   "execution_count": null,
   "metadata": {},
   "outputs": [],
   "source": [
    "# Normaliser les valeurs de category_1_counts\n",
    "norm = plt.Normalize(category_1_counts.min(), category_1_counts.max())\n",
    "\n",
    "# Créer une palette de couleurs basée sur la normalisation\n",
    "colors = [plt.cm.viridis_r(norm(value)) for value in category_1_counts]\n",
    "\n",
    "# Créer les positions des âges sur l'axe x\n",
    "x = np.arange(len(category_1_counts))\n",
    "\n",
    "# Créer la figure et l'axe avec une taille agrandie\n",
    "plt.figure(figsize=(14, 8))\n",
    "ax = plt.gca()\n",
    "\n",
    "# Créer les barres\n",
    "ax.bar(x, category_1_counts, width=0.5, color=colors)\n",
    "\n",
    "# Définir les étiquettes de l'axe x et le titre du graphique\n",
    "ax.set_xticks(x)\n",
    "ax.set_xticklabels(category_1_counts.index, rotation=45, ha='right')\n",
    "ax.set_xlabel('Âge')\n",
    "ax.set_ylabel('Nombre de produits')\n",
    "ax.set_title('Répartition du nombre de produits de la catégorie 1 en fonction de l\\'âge')\n",
    "\n",
    "# Ajuster les marges pour éviter que les étiquettes ne soient coupées\n",
    "plt.tight_layout()\n",
    "\n",
    "# Afficher le graphique\n",
    "plt.show()"
   ]
  },
  {
   "cell_type": "markdown",
   "metadata": {},
   "source": [
    "#### Répartition du nombre de produits de la catégorie 2 en fonction de l'age"
   ]
  },
  {
   "cell_type": "code",
   "execution_count": null,
   "metadata": {},
   "outputs": [],
   "source": [
    "# Normaliser les valeurs de category_2_counts\n",
    "norm = plt.Normalize(category_2_counts.min(), category_2_counts.max())\n",
    "\n",
    "# Créer une palette de couleurs basée sur la normalisation\n",
    "colors = [plt.cm.viridis_r(norm(value)) for value in category_2_counts]\n",
    "\n",
    "# Créer les positions des âges sur l'axe x\n",
    "x = np.arange(len(category_2_counts))\n",
    "\n",
    "# Créer la figure et l'axe avec une taille agrandie\n",
    "plt.figure(figsize=(14, 8))\n",
    "ax = plt.gca()\n",
    "\n",
    "# Créer les barres\n",
    "ax.bar(x, category_2_counts, width=0.5, color=colors)\n",
    "\n",
    "# Définir les étiquettes de l'axe x et le titre du graphique\n",
    "ax.set_xticks(x)\n",
    "ax.set_xticklabels(category_2_counts.index, rotation=45, ha='right')\n",
    "ax.set_xlabel('Âge')\n",
    "ax.set_ylabel('Nombre de produits')\n",
    "ax.set_title('Répartition du nombre de produits de la catégorie 2 en fonction de l\\'âge')\n",
    "\n",
    "# Ajuster les marges pour éviter que les étiquettes ne soient coupées\n",
    "plt.tight_layout()\n",
    "\n",
    "# Afficher le graphique\n",
    "plt.show()"
   ]
  },
  {
   "cell_type": "markdown",
   "metadata": {
    "jp-MarkdownHeadingCollapsed": true,
    "tags": []
   },
   "source": [
    "### Test ANOVA"
   ]
  },
  {
   "cell_type": "code",
   "execution_count": null,
   "metadata": {},
   "outputs": [],
   "source": [
    "#  ANOVA test\n",
    "anova_result = f_oneway(*[dft[dft['age'] == tr]['categ'] for tr in dft['age'].unique()])\n",
    "\n",
    "# Afficher les résultats\n",
    "print(\"ANOVA Test Results:\")\n",
    "print(\"F-statistic:\", anova_result.statistic)\n",
    "print(\"P-value:\", anova_result.pvalue)"
   ]
  },
  {
   "cell_type": "markdown",
   "metadata": {},
   "source": [
    "la F-statistic est de 3489.842 et la P-value est de 0.0. Cela signifie qu'il existe des différences significatives entre les moyennes des groupes analysés et que ces différences ne sont pas dues au hasard. La P-value étant nulle, cela indique une très forte confiance statistique dans le rejet de l'hypothèse nulle selon laquelle les moyennes des groupes seraient égales. (l'hypothèse nulle est que les moyennes de tous les groupes sont égales) ."
   ]
  },
  {
   "cell_type": "markdown",
   "metadata": {
    "jp-MarkdownHeadingCollapsed": true,
    "tags": []
   },
   "source": [
    "### Test du Chi-carré"
   ]
  },
  {
   "cell_type": "markdown",
   "metadata": {},
   "source": [
    "Pour calculer la corrélation entre la tranche d'age et la categ on va utilsier le test du chi-carré, car ce sont 2 vairables catégorielles."
   ]
  },
  {
   "cell_type": "code",
   "execution_count": null,
   "metadata": {},
   "outputs": [],
   "source": [
    "# Créer le tableau de contingence entre 'tranchr' et 'categ'\n",
    "contingency_table = pd.crosstab(dft['tranche'], dft['categ'])\n",
    "\n",
    "# Appliquer le test du Chi-carré\n",
    "chi2, p_value, dof, expected = chi2_contingency(contingency_table)\n",
    "\n",
    "# Afficher les résultats\n",
    "print('Tableau de contingence :')\n",
    "print(contingency_table)\n",
    "print()\n",
    "print('Résultats du test du Chi-carré :')\n",
    "print('Valeur de Chi2 :', chi2)\n",
    "print('P-valeur :', p_value)\n",
    "print('Degrés de liberté :', dof)\n",
    "print()\n",
    "print('Tableau des fréquences attendues :')\n",
    "expected_table = pd.DataFrame(expected, index=contingency_table.index, columns=contingency_table.columns)\n",
    "expected_table = expected_table.round()\n",
    "print(expected_table)"
   ]
  },
  {
   "cell_type": "code",
   "execution_count": null,
   "metadata": {},
   "outputs": [],
   "source": [
    "# Calcul de la différence entre les deux tables\n",
    "difference_table = contingency_table - expected_table\n",
    "\n",
    "# Calcul du pourcentage de la différnce\n",
    "percentage_difference_table = round((difference_table / expected_table) * 100)\n",
    "\n",
    "print(\"\\nPercentage Difference Table:\")\n",
    "print(percentage_difference_table)\n",
    "\n",
    "# Creation heatmap\n",
    "plt.figure(figsize=(8, 6))\n",
    "sns.heatmap(percentage_difference_table, annot=True, cmap='coolwarm')\n",
    "plt.show()"
   ]
  },
  {
   "cell_type": "markdown",
   "metadata": {},
   "source": [
    "Les résultats du test du Chi-carré indiquent une association statistiquement significative entre les variables \"age\" et \"categ\".\n",
    "\n",
    "La valeur de Chi2 est élevée (305629.37802685937), ce qui suggère une forte déviation par rapport à ce que nous attendrions si les deux variables étaient indépendantes. La p-valeur est de zéro 0.0, ce qui indique que le résultat n'est pas du au hasard.\n",
    "\n",
    "Le tableau de contingence montre le nombre d'observations pour chaque combinaison d'âge et de catégorie. Le tableau des fréquences attendues présente les fréquences théoriques attendues sous l'hypothèse nulle d'indépendance entre les variables.\n",
    "\n",
    "Ces résultats suggèrent donc qu'il existe une relation significative entre l'âge et la catégorie de produits achetés. Cependant, il est important de noter que le test du Chi-carré mesure uniquement l'association entre les variables et ne fournit pas d'indication sur la direction ou la force de la relation. Pour obtenir des informations plus détaillées sur la nature de cette relation, il peut être utile d'utiliser d'autres mesures de corrélation adaptées aux variables catégorielles."
   ]
  },
  {
   "cell_type": "markdown",
   "metadata": {
    "jp-MarkdownHeadingCollapsed": true,
    "tags": []
   },
   "source": [
    "<a id=\"section6\"></a>\n",
    "# **CONCLUSION**\n",
    "---"
   ]
  },
  {
   "cell_type": "markdown",
   "metadata": {},
   "source": [
    "**Aperçu du Profil Client :**\n",
    "\n",
    "Nos clients sont segmentés selon divers critères, dont l'âge et le sexe. L'analyse dévoile que la tranche d'âge dominante se situe entre 31 et 60 ans, avec une prépondérance pour les individus âgés de 41 à 50 ans. La proportion de clients masculins et féminins est pratiquement équilibrée.\n",
    "\n",
    "Il est intéressant de noter une forte activité d'achat chez les individus de 43 ans. Par ailleurs, un nombre significatif d'achats provient d'individus de 18 ans. Ceci pourrait être attribué à l'obtention d'une carte bancaire ou à l'âge légal pour créer un compte client, poussant ainsi certains mineurs à indiquer avoir 18 ans.\n",
    "\n",
    "**Dynamique d'Achat :**\n",
    "\n",
    "En explorant les tendances d'achat, on constate que la majorité de notre chiffre d'affaires est générée par les catégories 0 et 1. Les préférences d'achat varient notablement en fonction du sexe : la catégorie 1 semble plus prisée par les hommes, tandis que la catégorie 2 semble avoir la faveur des femmes. La catégorie 0, quant à elle, attire à la fois hommes et femmes, bien que ces dernières soient légèrement moins représentées.\n",
    "\n",
    "**Interconnexions Notables :**\n",
    "\n",
    "Le sexe du client influence la catégorie de produits qu'il privilégie.\n",
    "L'âge impacte le volume d'achats, bien que la corrélation soit modeste.\n",
    "Une corrélation légère existe entre l'âge et la régularité des achats.\n",
    "L'âge influence également le montant moyen du panier d'achat.\n",
    "Il existe un lien tangible entre l'âge du client et la catégorie de produits qu'il choisit.\n",
    "\n",
    "**Examen des Catégories de Produits :**\n",
    "\n",
    "Cette étude a révélé des tendances d'achat claires parmi nos clients. Par exemple, les jeunes adultes (18-31 ans) tendent à avoir un panier d'achat supérieur à la moyenne. Les clients âgés de 43 ans se démarquent par leur activité d'achat, et la tranche d'âge 31-55 ans est la plus assidue en matière d'achats.\n",
    "\n",
    "**Perspectives Financières :**\n",
    "\n",
    "En évaluant la distribution du chiffre d'affaires, nous constatons que les 10 produits les plus vendus génèrent plus de 5% de notre chiffre d'affaires total. De plus, une moitié significative de notre clientèle contribue à près de 70% de notre chiffre d'affaires, soulignant l'importance de fidéliser ce segment."
   ]
  },
  {
   "cell_type": "markdown",
   "metadata": {
    "tags": []
   },
   "source": [
    "<a id=\"section6\"></a>\n",
    "# **AJOUT suite à la soutenance**\n",
    "---"
   ]
  },
  {
   "cell_type": "code",
   "execution_count": null,
   "metadata": {},
   "outputs": [],
   "source": [
    "from scipy.stats import shapiro\n",
    "from scipy.stats import spearmanr\n",
    "from scipy import stats"
   ]
  },
  {
   "cell_type": "markdown",
   "metadata": {},
   "source": [
    "1. **Test de corrélation de Pearson**:\n",
    "    - Age et montant\n",
    "    - Age et fréquence\n",
    "    - Age et montant total\n",
    "2. **Vérification de la normalité des distributions**:\n",
    "    - Pour l'âge, nous utiliserons le test de Shapiro-Wilk et le test de Kolmogorov-Smirnov.\n",
    "3. **Si l'âge ne présente pas une distribution normale**:\n",
    "    - Nous utiliserons le test de corrélation de Spearman à la place de Pearson pour les associations mentionnées précédemment.\n",
    "4. **Pour l'ANOVA**:\n",
    "    - Test de Shapiro-Wilk pour vérifier la normalité de l'âge au sein de chaque catégorie.\n",
    "    - Test de Levene pour vérifier l'homogénéité des variances.\n",
    "5. **Si les conditions pour l'ANOVA ne sont pas remplies**:\n",
    "    - Nous utiliserons le test de Kruskal-Wallis pour la comparaison des médianes.\n",
    "\n"
   ]
  },
  {
   "cell_type": "code",
   "execution_count": 644,
   "metadata": {},
   "outputs": [
    {
     "data": {
      "text/html": [
       "<div>\n",
       "<style scoped>\n",
       "    .dataframe tbody tr th:only-of-type {\n",
       "        vertical-align: middle;\n",
       "    }\n",
       "\n",
       "    .dataframe tbody tr th {\n",
       "        vertical-align: top;\n",
       "    }\n",
       "\n",
       "    .dataframe thead th {\n",
       "        text-align: right;\n",
       "    }\n",
       "</style>\n",
       "<table border=\"1\" class=\"dataframe\">\n",
       "  <thead>\n",
       "    <tr style=\"text-align: right;\">\n",
       "      <th></th>\n",
       "      <th>id_prod</th>\n",
       "      <th>date</th>\n",
       "      <th>session_id</th>\n",
       "      <th>client_id</th>\n",
       "      <th>price</th>\n",
       "      <th>categ</th>\n",
       "      <th>sex</th>\n",
       "      <th>birth</th>\n",
       "      <th>age</th>\n",
       "      <th>tranche</th>\n",
       "      <th>profil</th>\n",
       "      <th>panier_moyen_par_age</th>\n",
       "      <th>panier_moyen_par_tranche_age</th>\n",
       "      <th>frequence_achat</th>\n",
       "    </tr>\n",
       "  </thead>\n",
       "  <tbody>\n",
       "    <tr>\n",
       "      <th>0</th>\n",
       "      <td>0_1259</td>\n",
       "      <td>2021-03-01 00:01:07.843138</td>\n",
       "      <td>s_1</td>\n",
       "      <td>c_329</td>\n",
       "      <td>11.99</td>\n",
       "      <td>0</td>\n",
       "      <td>f</td>\n",
       "      <td>1967</td>\n",
       "      <td>56</td>\n",
       "      <td>51-60</td>\n",
       "      <td>Femme entre 50-60 ans</td>\n",
       "      <td>17.0</td>\n",
       "      <td>16.0</td>\n",
       "      <td>63</td>\n",
       "    </tr>\n",
       "    <tr>\n",
       "      <th>1</th>\n",
       "      <td>0_1390</td>\n",
       "      <td>2021-03-01 00:02:26.047414</td>\n",
       "      <td>s_2</td>\n",
       "      <td>c_664</td>\n",
       "      <td>19.37</td>\n",
       "      <td>0</td>\n",
       "      <td>m</td>\n",
       "      <td>1960</td>\n",
       "      <td>63</td>\n",
       "      <td>61-70</td>\n",
       "      <td>Homme entre 60-70 ans</td>\n",
       "      <td>17.0</td>\n",
       "      <td>17.0</td>\n",
       "      <td>117</td>\n",
       "    </tr>\n",
       "    <tr>\n",
       "      <th>2</th>\n",
       "      <td>0_1352</td>\n",
       "      <td>2021-03-01 00:02:38.311413</td>\n",
       "      <td>s_3</td>\n",
       "      <td>c_580</td>\n",
       "      <td>4.50</td>\n",
       "      <td>0</td>\n",
       "      <td>m</td>\n",
       "      <td>1988</td>\n",
       "      <td>35</td>\n",
       "      <td>31-40</td>\n",
       "      <td>Homme entre 30-40 ans</td>\n",
       "      <td>13.0</td>\n",
       "      <td>15.0</td>\n",
       "      <td>338</td>\n",
       "    </tr>\n",
       "    <tr>\n",
       "      <th>3</th>\n",
       "      <td>0_1458</td>\n",
       "      <td>2021-03-01 00:04:54.559692</td>\n",
       "      <td>s_4</td>\n",
       "      <td>c_7912</td>\n",
       "      <td>6.55</td>\n",
       "      <td>0</td>\n",
       "      <td>f</td>\n",
       "      <td>1989</td>\n",
       "      <td>34</td>\n",
       "      <td>31-40</td>\n",
       "      <td>Femme entre 30-40 ans</td>\n",
       "      <td>13.0</td>\n",
       "      <td>15.0</td>\n",
       "      <td>239</td>\n",
       "    </tr>\n",
       "    <tr>\n",
       "      <th>4</th>\n",
       "      <td>0_1358</td>\n",
       "      <td>2021-03-01 00:05:18.801198</td>\n",
       "      <td>s_5</td>\n",
       "      <td>c_2033</td>\n",
       "      <td>16.49</td>\n",
       "      <td>0</td>\n",
       "      <td>f</td>\n",
       "      <td>1956</td>\n",
       "      <td>67</td>\n",
       "      <td>61-70</td>\n",
       "      <td>Femme entre 60-70 ans</td>\n",
       "      <td>17.0</td>\n",
       "      <td>17.0</td>\n",
       "      <td>82</td>\n",
       "    </tr>\n",
       "  </tbody>\n",
       "</table>\n",
       "</div>"
      ],
      "text/plain": [
       "  id_prod                       date session_id client_id  price categ sex  \\\n",
       "0  0_1259 2021-03-01 00:01:07.843138        s_1     c_329  11.99     0   f   \n",
       "1  0_1390 2021-03-01 00:02:26.047414        s_2     c_664  19.37     0   m   \n",
       "2  0_1352 2021-03-01 00:02:38.311413        s_3     c_580   4.50     0   m   \n",
       "3  0_1458 2021-03-01 00:04:54.559692        s_4    c_7912   6.55     0   f   \n",
       "4  0_1358 2021-03-01 00:05:18.801198        s_5    c_2033  16.49     0   f   \n",
       "\n",
       "   birth  age tranche                 profil  panier_moyen_par_age  \\\n",
       "0   1967   56   51-60  Femme entre 50-60 ans                  17.0   \n",
       "1   1960   63   61-70  Homme entre 60-70 ans                  17.0   \n",
       "2   1988   35   31-40  Homme entre 30-40 ans                  13.0   \n",
       "3   1989   34   31-40  Femme entre 30-40 ans                  13.0   \n",
       "4   1956   67   61-70  Femme entre 60-70 ans                  17.0   \n",
       "\n",
       "   panier_moyen_par_tranche_age  frequence_achat  \n",
       "0                          16.0               63  \n",
       "1                          17.0              117  \n",
       "2                          15.0              338  \n",
       "3                          15.0              239  \n",
       "4                          17.0               82  "
      ]
     },
     "execution_count": 644,
     "metadata": {},
     "output_type": "execute_result"
    }
   ],
   "source": [
    "dft.head()"
   ]
  },
  {
   "cell_type": "code",
   "execution_count": null,
   "metadata": {},
   "outputs": [],
   "source": [
    "\n",
    "# Test de normalité pour la variable 'age'\n",
    "stat, p = shapiro(dft['age'])\n",
    "print('Test de Shapiro-Wilk pour l\\'âge :')\n",
    "print(f'Statistique de test : {stat}')\n",
    "print(f'P-valeur : {p}')\n",
    "print()\n",
    "\n",
    "# Interprétation des résultats\n",
    "alpha = 0.05\n",
    "if p > alpha:\n",
    "    print('L\\'échantillon semble provenir d\\'une distribution normale (l\\'hypothèse nulle n\\'est pas rejetée)')\n",
    "else:\n",
    "    print('L\\'échantillon ne semble pas provenir d\\'une distribution normale (l\\'hypothèse nulle est rejetée)')"
   ]
  },
  {
   "cell_type": "markdown",
   "metadata": {},
   "source": [
    "Le test de Shapiro-Wilk indique que la distribution de l'âge dans votre échantillon ne suit pas une distribution normale. La p-valeur de 0.0 est inférieure à un seuil de significativité communément utilisé de 0,05, ce qui signifie que vous pouvez rejeter l'hypothèse nulle selon laquelle les données sont normalement distribuées.\n",
    "\n",
    "Cela signifie que, d'après ce test, l'âge de vos clients ne suit pas une distribution normale dans votre ensemble de données. \n",
    "\n"
   ]
  },
  {
   "cell_type": "code",
   "execution_count": null,
   "metadata": {},
   "outputs": [],
   "source": [
    "# Test de corrélation de Spearman entre l'âge et le montant\n",
    "rho, p = spearmanr(dft['age'], dft['price'])\n",
    "print('Test de corrélation de Spearman entre l\\'âge et le montant :')\n",
    "print(f'Coefficient de corrélation de Spearman (rho) : {rho}')\n",
    "print(f'P-valeur : {p}')"
   ]
  },
  {
   "cell_type": "markdown",
   "metadata": {},
   "source": [
    "Le test de corrélation de Spearman entre l'âge et le montant indique une corrélation statistiquement significative, bien que faible, entre ces deux variables. Voici ce que signifient les résultats :\n",
    "\n",
    "Coefficient de corrélation de Spearman (rho) : -0.055464894621283005\n",
    "\n",
    "Ce coefficient mesure la force et la direction de la relation monotone entre l'âge et le montant. Dans ce cas, un coefficient négatif indique une relation décroissante, c'est-à-dire que, en général, à mesure que l'âge augmente, le montant a tendance à diminuer légèrement.\n",
    "\n",
    "P-valeur : 0.0\n",
    "\n",
    "La p-valeur est très faible (proche de zéro), ce qui indique que la corrélation est statistiquement significative. Cela signifie que la corrélation observée n'est probablement pas due au hasard.\n",
    "\n",
    "Bien que la corrélation soit statistiquement significative, il est important de noter que le coefficient de corrélation de Spearman est très proche de zéro, ce qui suggère une relation faible entre l'âge et le montant. \n",
    "\n"
   ]
  },
  {
   "cell_type": "code",
   "execution_count": 652,
   "metadata": {},
   "outputs": [
    {
     "name": "stdout",
     "output_type": "stream",
     "text": [
      "Test de corrélation de Spearman entre l'âge et la fréquence :\n",
      "Coefficient de corrélation de Spearman (rho) : -0.039607443298568246\n",
      "P-valeur : 9.855725903289696e-237\n"
     ]
    }
   ],
   "source": [
    "# Test de corrélation de Spearman entre l'âge et la fréquence d'achat\n",
    "rho, p = spearmanr(dft['age'], dft['frequence_achat'])\n",
    "print('Test de corrélation de Spearman entre l\\'âge et la fréquence :')\n",
    "print(f'Coefficient de corrélation de Spearman (rho) : {rho}')\n",
    "print(f'P-valeur : {p}')\n"
   ]
  },
  {
   "cell_type": "markdown",
   "metadata": {},
   "source": [
    "Le test de corrélation de Spearman  entre l'âge et la fréquence d'achat indique une corrélation statistiquement significative, bien que faible, entre ces deux variables. Voici ce que signifient les résultats :\n",
    "\n",
    "Coefficient de corrélation de Spearman (rho) : -0.039607443298568246\n",
    "\n",
    "Ce coefficient mesure la force et la direction de la relation monotone entre l'âge et la fréquence d'achat. Dans ce cas, un coefficient négatif indique une relation décroissante, ce qui signifie que, en général, à mesure que l'âge augmente, la fréquence d'achat a tendance à diminuer légèrement.\n",
    "\n",
    "P-valeur : 9.855725903289696e-237\n",
    "\n",
    "La p-valeur est extrêmement faible (proche de zéro), ce qui indique que la corrélation est statistiquement significative. Cela signifie que la corrélation observée n'est probablement pas due au hasard.\n",
    "\n",
    "Tout comme dans le cas de la corrélation entre l'âge et le montant, la corrélation entre l'âge et la fréquence est statistiquement significative mais faible. \n"
   ]
  },
  {
   "cell_type": "code",
   "execution_count": 654,
   "metadata": {},
   "outputs": [
    {
     "name": "stdout",
     "output_type": "stream",
     "text": [
      "Test de corrélation de Spearman entre l'âge et le montant total des achats :\n",
      "Coefficient de corrélation de Spearman (rho) : -0.8583732057416268\n",
      "P-valeur : 3.805937971547995e-23\n"
     ]
    }
   ],
   "source": [
    "# Grouper les données par âge et calculer la somme du montant total des achats\n",
    "age_total_purchase = dft.groupby('age')['price'].sum()\n",
    "\n",
    "# Convertir la série en DataFrame\n",
    "age_total_purchase_df = age_total_purchase.reset_index()\n",
    "\n",
    "# Renommer les colonnes pour correspondre à celles de votre DataFrame d'origine\n",
    "age_total_purchase_df.rename(columns={'age': 'age', 'price': 'montant_total'}, inplace=True)\n",
    "\n",
    "# Effectuer le test de corrélation de Spearman entre l'âge et le montant total\n",
    "rho, p = spearmanr(age_total_purchase_df['age'], age_total_purchase_df['montant_total'])\n",
    "print('Test de corrélation de Spearman entre l\\'âge et le montant total des achats :')\n",
    "print(f'Coefficient de corrélation de Spearman (rho) : {rho}')\n",
    "print(f'P-valeur : {p}')\n"
   ]
  },
  {
   "cell_type": "markdown",
   "metadata": {},
   "source": [
    "Le test de corrélation de Spearman entre l'âge et le montant total des achats indique une corrélation statistiquement significative et assez forte entre ces deux variables. Voici ce que signifient les résultats :\n",
    "\n",
    "Coefficient de corrélation de Spearman (rho) : -0.8583732057416268\n",
    "\n",
    "Ce coefficient mesure la force et la direction de la relation monotone entre l'âge et le montant total des achats. Dans ce cas, un coefficient négatif indique une relation décroissante, c'est-à-dire que, en général, à mesure que l'âge augmente, le montant total des achats a tendance à diminuer de manière significative.\n",
    "\n",
    "P-valeur : 3.805937971547995e-23\n",
    "\n",
    "La p-valeur est extrêmement faible (proche de zéro), ce qui indique que la corrélation est statistiquement significative. Cela signifie que la corrélation observée n'est probablement pas due au hasard.\n",
    "\n",
    "Dans ce cas, la corrélation est assez forte, ce qui suggère qu'il y a une relation significative entre l'âge des clients et le montant total de leurs achats. Plus précisément, à mesure que l'âge des clients augmente, leurs dépenses totales ont tendance à diminuer de manière significative.\n",
    "\n"
   ]
  },
  {
   "cell_type": "code",
   "execution_count": 662,
   "metadata": {},
   "outputs": [
    {
     "name": "stdout",
     "output_type": "stream",
     "text": [
      "Test de Shapiro-Wilk pour la catégorie 0:\n",
      "Statistique de test : 0.9365479350090027\n",
      "P-valeur : 0.0\n",
      "L'échantillon ne semble pas provenir d'une distribution normale (l'hypothèse nulle est rejetée)\n",
      "\n",
      "Test de Shapiro-Wilk pour la catégorie 1:\n",
      "Statistique de test : 0.9906350374221802\n",
      "P-valeur : 0.0\n",
      "L'échantillon ne semble pas provenir d'une distribution normale (l'hypothèse nulle est rejetée)\n",
      "\n",
      "Test de Shapiro-Wilk pour la catégorie 2:\n",
      "Statistique de test : 0.6679465174674988\n",
      "P-valeur : 0.0\n",
      "L'échantillon ne semble pas provenir d'une distribution normale (l'hypothèse nulle est rejetée)\n",
      "\n",
      "Test d'homogénéité des variances (Test de Levene) :\n",
      "Statistique de test : 26975.654952034234\n",
      "P-valeur : 0.0\n",
      "L'homogénéité des variances n'est pas vérifiée (l'hypothèse nulle est rejetée)\n",
      "\n",
      "Conditions pour l'ANOVA non remplies. Effectuez le test de Kruskal-Wallis.\n",
      "Résultats du test de Kruskal-Wallis :\n",
      "Statistique de test : 78458.43837285662\n",
      "P-valeur : 0.0\n"
     ]
    }
   ],
   "source": [
    "# Divisez votre DataFrame en groupes par catégorie\n",
    "groupes_par_categorie = [dft[dft['categ'] == i]['age'] for i in dft['categ'].unique()]\n",
    "\n",
    "# Test de normalité de l'âge pour chaque catégorie\n",
    "shapiro_results = [stats.shapiro(groupe) for groupe in groupes_par_categorie]\n",
    "\n",
    "# Test d'homogénéité des variances (Test de Levene)\n",
    "levene_stat, levene_p_value = stats.levene(*groupes_par_categorie)\n",
    "\n",
    "# Afficher les résultats des tests de normalité\n",
    "for i, (categ, (stat, p_value)) in enumerate(zip(dft['categ'].unique(), shapiro_results)):\n",
    "    print(f\"Test de Shapiro-Wilk pour la catégorie {categ}:\")\n",
    "    print(f\"Statistique de test : {stat}\")\n",
    "    print(f\"P-valeur : {p_value}\")\n",
    "    if p_value < 0.05:\n",
    "        print(\"L'échantillon ne semble pas provenir d'une distribution normale (l'hypothèse nulle est rejetée)\")\n",
    "    else:\n",
    "        print(\"L'échantillon semble provenir d'une distribution normale (l'hypothèse nulle n'est pas rejetée)\")\n",
    "    print()\n",
    "\n",
    "# Afficher le résultat du test d'homogénéité des variances\n",
    "print(\"Test d'homogénéité des variances (Test de Levene) :\")\n",
    "print(f\"Statistique de test : {levene_stat}\")\n",
    "print(f\"P-valeur : {levene_p_value}\")\n",
    "if levene_p_value < 0.05:\n",
    "    print(\"L'homogénéité des variances n'est pas vérifiée (l'hypothèse nulle est rejetée)\")\n",
    "else:\n",
    "    print(\"L'homogénéité des variances est vérifiée (l'hypothèse nulle n'est pas rejetée)\")\n",
    "\n",
    "# Si les conditions pour l'ANOVA ne sont pas remplies, effectuez le test de Kruskal-Wallis\n",
    "if any(p_value < 0.05 for _, p_value in shapiro_results) or levene_p_value < 0.05:\n",
    "    print(\"\\nConditions pour l'ANOVA non remplies. Effectuez le test de Kruskal-Wallis.\")\n",
    "    kruskal_stat, kruskal_p_value = stats.kruskal(*groupes_par_categorie)\n",
    "    print(\"Résultats du test de Kruskal-Wallis :\")\n",
    "    print(f\"Statistique de test : {kruskal_stat}\")\n",
    "    print(f\"P-valeur : {kruskal_p_value}\")\n",
    "else:\n",
    "    print(\"\\nConditions pour l'ANOVA satisfaites. Vous pouvez effectuer l'ANOVA.\")\n"
   ]
  },
  {
   "cell_type": "markdown",
   "metadata": {},
   "source": [
    "Les résultats des tests sont assez clairs :\n",
    "\n",
    "Les tests de Shapiro-Wilk pour chaque catégorie montrent que l'hypothèse de normalité est rejetée pour toutes les catégories, car les p-valeurs sont très proches de zéro. Cela signifie que l'âge n'est pas distribué normalement dans chaque catégorie.\n",
    "\n",
    "Le test d'homogénéité des variances (Test de Levene) montre que l'hypothèse d'homogénéité des variances est rejetée car la p-valeur est très proche de zéro. Cela signifie que les variances de l'âge dans chaque catégorie sont significativement différentes.\n",
    "\n",
    "En conséquence, les conditions pour l'ANOVA ne sont pas remplies, et le test de Kruskal-Wallis est effectué pour la comparaison des médianes.\n",
    "\n",
    "Le test de Kruskal-Wallis montre également des résultats significatifs avec une p-valeur proche de zéro, indiquant que les médianes de l'âge dans les catégories sont différentes.\n",
    "\n",
    "Dans l'ensemble, ces résultats suggèrent que l'âge a une influence significative sur la catégorie de livres achetés, mais il ne suit pas une distribution normale et les variances ne sont pas homogènes.\n",
    "Les résultats du test de Kruskal-Wallis montrent une statistique de test élevée (78458.44) avec une p-valeur très proche de zéro (0.0). Cela signifie que les médianes des tranches d'âge diffèrent de manière significative entre les catégories de livres achetés.\n",
    "\n",
    "En d'autres termes, il y a une relation statistiquement significative entre l'âge des clients et la catégorie de livres qu'ils achètent.\n",
    "\n"
   ]
  }
 ],
 "metadata": {
  "kernelspec": {
   "display_name": "anaconda-2022.05-py39",
   "language": "python",
   "name": "conda-env-anaconda-2022.05-py39-py"
  },
  "language_info": {
   "codemirror_mode": {
    "name": "ipython",
    "version": 3
   },
   "file_extension": ".py",
   "mimetype": "text/x-python",
   "name": "python",
   "nbconvert_exporter": "python",
   "pygments_lexer": "ipython3",
   "version": "3.9.12"
  }
 },
 "nbformat": 4,
 "nbformat_minor": 4
}
